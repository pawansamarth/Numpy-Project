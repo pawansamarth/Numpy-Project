{
  "nbformat": 4,
  "nbformat_minor": 0,
  "metadata": {
    "colab": {
      "provenance": []
    },
    "kernelspec": {
      "name": "python3",
      "display_name": "Python 3"
    },
    "language_info": {
      "name": "python"
    }
  },
  "cells": [
    {
      "cell_type": "code",
      "execution_count": null,
      "metadata": {
        "id": "TXLf9LQBlyJd"
      },
      "outputs": [],
      "source": [
        "## Q.1) Create a NumPy array 'arr' of integers from 0 to 5 and print its data type.\n",
        "import numpy as np"
      ]
    },
    {
      "cell_type": "code",
      "source": [
        "# Create a NumPy array of integers from 0 to 5\n",
        "arr = np.arange(6)\n",
        "\n",
        "# Print the data type of the array\n",
        "print(arr.dtype)"
      ],
      "metadata": {
        "colab": {
          "base_uri": "https://localhost:8080/"
        },
        "id": "Idjkhno7l-ZE",
        "outputId": "69036fde-0f1d-41b8-9be7-2e801c7b841c"
      },
      "execution_count": null,
      "outputs": [
        {
          "output_type": "stream",
          "name": "stdout",
          "text": [
            "int64\n"
          ]
        }
      ]
    },
    {
      "cell_type": "code",
      "source": [
        "## Q.2) Given a NumPy array 'arr', check if its data type is float64.\n",
        "##      arr = np.array([1.5, 2.6, 3.7])\n",
        "import numpy as np\n",
        "arr = np.array([1.5, 2.6, 3.7])\n",
        "\n",
        "# Check if the data type is float64\n",
        "if arr.dtype == np.float64:\n",
        "    print(\"Data type is float64\")\n",
        "else:\n",
        "    print(\"Data type is not float64\")"
      ],
      "metadata": {
        "colab": {
          "base_uri": "https://localhost:8080/"
        },
        "id": "Zt45zMYEmF0Y",
        "outputId": "6b725bc8-4e91-4d54-adc0-d6ec585811ec"
      },
      "execution_count": null,
      "outputs": [
        {
          "output_type": "stream",
          "name": "stdout",
          "text": [
            "Data type is float64\n"
          ]
        }
      ]
    },
    {
      "cell_type": "code",
      "source": [
        "## Q.3) Create a NumPy array 'arr' with a data type of complex128 containing three complex numbers.\n",
        "import numpy as np\n",
        "# Create a NumPy array with complex128 data type\n",
        "arr = np.array([1+2j, 3+4j, 5+6j], dtype=np.complex128)\n",
        "print(arr)"
      ],
      "metadata": {
        "colab": {
          "base_uri": "https://localhost:8080/"
        },
        "id": "csB0QIzwmLnL",
        "outputId": "9d2eb7a4-d8df-4f5b-adb5-7d818eecfac8"
      },
      "execution_count": null,
      "outputs": [
        {
          "output_type": "stream",
          "name": "stdout",
          "text": [
            "[1.+2.j 3.+4.j 5.+6.j]\n"
          ]
        }
      ]
    },
    {
      "cell_type": "code",
      "source": [
        "## Q.4) Convert an existing NumPy array 'arr' of integers to float32 data type.\n",
        "import numpy as np\n",
        "\n",
        "# Create an integer NumPy array\n",
        "arr = np.array([21, 22, 23, 24, 25])\n",
        "print(\"Original array (integer):\", arr)\n",
        "print(\"Data type:\", arr.dtype)\n",
        "\n",
        "# Convert the array to float32\n",
        "arr_float32 = arr.astype(np.float32)\n",
        "print(\"Converted array (float32):\", arr_float32)\n",
        "print(\"Data type:\", arr_float32.dtype)"
      ],
      "metadata": {
        "colab": {
          "base_uri": "https://localhost:8080/"
        },
        "id": "0awSDPQqmSPd",
        "outputId": "568ae60f-f90e-4976-f2ef-f820614e4981"
      },
      "execution_count": null,
      "outputs": [
        {
          "output_type": "stream",
          "name": "stdout",
          "text": [
            "Original array (integer): [21 22 23 24 25]\n",
            "Data type: int64\n",
            "Converted array (float32): [21. 22. 23. 24. 25.]\n",
            "Data type: float32\n"
          ]
        }
      ]
    },
    {
      "cell_type": "code",
      "source": [
        "## Q.5) Given a NumPy array 'arr' with float64 data type, convert it to float32 to reduce decimal precision.\n",
        "import numpy as np\n",
        "\n",
        "# Create a float64 NumPy array\n",
        "arr = np.array([1.23456789, 2.3456789, 3.456789])\n",
        "print(\"Original array (float64):\", arr)\n",
        "print(\"Data type:\", arr.dtype)\n",
        "\n",
        "# Convert the array to float32\n",
        "arr_float32 = arr.astype(np.float32)\n",
        "print(\"Converted array (float32):\", arr_float32)\n",
        "print(\"Data type:\", arr_float32.dtype)"
      ],
      "metadata": {
        "colab": {
          "base_uri": "https://localhost:8080/"
        },
        "id": "VoyvrasFm6pl",
        "outputId": "483cc1d7-aeaa-450f-9e6f-35d91d5608d6"
      },
      "execution_count": null,
      "outputs": [
        {
          "output_type": "stream",
          "name": "stdout",
          "text": [
            "Original array (float64): [1.23456789 2.3456789  3.456789  ]\n",
            "Data type: float64\n",
            "Converted array (float32): [1.2345679 2.3456788 3.456789 ]\n",
            "Data type: float32\n"
          ]
        }
      ]
    },
    {
      "cell_type": "code",
      "source": [
        "## Q.6) Write a function array_attributes that takes a NumPy array as input and returns its shape, size, and data type.\n",
        "import numpy as np\n",
        "\n",
        "def array_attributes(arr):\n",
        "    shape = arr.shape       # Get the shape of the array\n",
        "    size = arr.size         # Get the total number of elements in the array\n",
        "    dtype = arr.dtype       # Get the data type of the elements in the array\n",
        "\n",
        "    return shape, size, dtype\n",
        "\n",
        "# Example;\n",
        "arr = np.array([[1, 2, 3], [4, 5, 6]])\n",
        "shape, size, dtype = array_attributes(arr)\n",
        "\n",
        "print(\"Shape:\", shape)\n",
        "print(\"Size:\", size)\n",
        "print(\"Data Type:\", dtype)\n"
      ],
      "metadata": {
        "colab": {
          "base_uri": "https://localhost:8080/"
        },
        "id": "c5fJVUm3nAfC",
        "outputId": "8bb46932-942d-4ca6-9774-9bf2d86add27"
      },
      "execution_count": null,
      "outputs": [
        {
          "output_type": "stream",
          "name": "stdout",
          "text": [
            "Shape: (2, 3)\n",
            "Size: 6\n",
            "Data Type: int64\n"
          ]
        }
      ]
    },
    {
      "cell_type": "code",
      "source": [
        "## Q.7) Create a function array_dimension that takes a NumPy array as input and returns its dimensionality.\n",
        "import numpy as np\n",
        "\n",
        "def array_dimension(arr):\n",
        "    return arr.ndim  # Return the number of dimensions of the array\n",
        "\n",
        "# Example;\n",
        "arr = np.array([[1, 2, 3], [4, 5, 6]])\n",
        "dimension = array_dimension(arr)\n",
        "\n",
        "print(\"Dimensionality:\", dimension)"
      ],
      "metadata": {
        "colab": {
          "base_uri": "https://localhost:8080/"
        },
        "id": "qGDAyF5inry-",
        "outputId": "70c1f297-7041-4594-fb98-1dd8700213e8"
      },
      "execution_count": null,
      "outputs": [
        {
          "output_type": "stream",
          "name": "stdout",
          "text": [
            "Dimensionality: 2\n"
          ]
        }
      ]
    },
    {
      "cell_type": "code",
      "source": [
        "## Q.8) Design a function item_size_info that takes a NumPy array as input and returns the item size and the total size in bytes.\n",
        "import numpy as np\n",
        "\n",
        "def item_size_info(arr):\n",
        "    item_size = arr.itemsize    # Get the size of one array element in bytes\n",
        "    total_size = arr.nbytes     # Get the total size of the array in bytes\n",
        "\n",
        "    return item_size, total_size\n",
        "\n",
        "# Example;\n",
        "arr = np.array([[1, 2, 3], [4, 5, 6]])\n",
        "item_size, total_size = item_size_info(arr)\n",
        "\n",
        "print(\"Item Size:\", item_size, \"bytes\")\n",
        "print(\"Total Size:\", total_size, \"bytes\")"
      ],
      "metadata": {
        "colab": {
          "base_uri": "https://localhost:8080/"
        },
        "id": "EspJ11vmoqTq",
        "outputId": "ef02d35d-66b8-44d0-ffd4-191d2fe90090"
      },
      "execution_count": null,
      "outputs": [
        {
          "output_type": "stream",
          "name": "stdout",
          "text": [
            "Item Size: 8 bytes\n",
            "Total Size: 48 bytes\n"
          ]
        }
      ]
    },
    {
      "cell_type": "code",
      "source": [
        "## Q.9) Create a function array_strides that takes a NumPy array as input and returns the strides of the array.\n",
        "import numpy as np\n",
        "\n",
        "def array_strides(arr):\n",
        "    return arr.strides  # Return the strides of the array\n",
        "\n",
        "# Example;\n",
        "arr = np.array([[1, 2, 3], [4, 5, 6]])\n",
        "strides = array_strides(arr)\n",
        "\n",
        "print(\"Strides:\", strides)"
      ],
      "metadata": {
        "colab": {
          "base_uri": "https://localhost:8080/"
        },
        "id": "kYkYAqFZpCYe",
        "outputId": "cd876e25-85ff-4478-fa93-70808d1eed8f"
      },
      "execution_count": null,
      "outputs": [
        {
          "output_type": "stream",
          "name": "stdout",
          "text": [
            "Strides: (24, 8)\n"
          ]
        }
      ]
    },
    {
      "cell_type": "code",
      "source": [
        "## Q.10) Design a function shape_stride_relationship that takes a NumPy array as input and returns the shape and strides of the array.\n",
        "import numpy as np\n",
        "\n",
        "def shape_stride_relationship(arr):\n",
        "    shape = arr.shape    # Get the shape of the array\n",
        "    strides = arr.strides # Get the strides of the array\n",
        "\n",
        "    return shape, strides\n",
        "\n",
        "# Example;\n",
        "arr = np.array([[1, 2, 3], [4, 5, 6]])\n",
        "shape, strides = shape_stride_relationship(arr)\n",
        "\n",
        "print(\"Shape:\", shape)\n",
        "print(\"Strides:\", strides)"
      ],
      "metadata": {
        "colab": {
          "base_uri": "https://localhost:8080/"
        },
        "id": "OEjqrUUnp0Nl",
        "outputId": "b9d7b0d8-03da-49a4-8a1a-b87ca5e1e334"
      },
      "execution_count": null,
      "outputs": [
        {
          "output_type": "stream",
          "name": "stdout",
          "text": [
            "Shape: (2, 3)\n",
            "Strides: (24, 8)\n"
          ]
        }
      ]
    },
    {
      "cell_type": "code",
      "source": [
        "## Q.11) Create a function `create_zeros_array` that takes an integer `n` as input and returns a NumPy array of zeros with `n` elements.\n",
        "import numpy as np\n",
        "\n",
        "def create_zeros_array(n):\n",
        "    return np.zeros(n)  # Create and return a NumPy array of zeros with n elements\n",
        "\n",
        "# Example;\n",
        "n = 5\n",
        "zeros_array = create_zeros_array(n)\n",
        "\n",
        "print(\"Array of zeros:\", zeros_array)"
      ],
      "metadata": {
        "colab": {
          "base_uri": "https://localhost:8080/"
        },
        "id": "Vvkieowvp2u1",
        "outputId": "744333d9-e669-42e4-ac3e-ea2f54102244"
      },
      "execution_count": null,
      "outputs": [
        {
          "output_type": "stream",
          "name": "stdout",
          "text": [
            "Array of zeros: [0. 0. 0. 0. 0.]\n"
          ]
        }
      ]
    },
    {
      "cell_type": "code",
      "source": [
        "## Q.12) Write a function `create_ones_matrix` that takes integers `rows` and `cols` as inputs and\n",
        "##      generates a 2D NumPy array filled with ones of size `rows x cols`.\n",
        "import numpy as np\n",
        "\n",
        "def create_ones_matrix(rows, cols):\n",
        "    return np.ones((rows, cols))  # Create and return a 2D NumPy array of ones with specified rows and columns\n",
        "\n",
        "# Example;\n",
        "rows = 3\n",
        "cols = 4\n",
        "ones_matrix = create_ones_matrix(rows, cols)\n",
        "\n",
        "print(\"2D Array of ones:\")\n",
        "print(ones_matrix)"
      ],
      "metadata": {
        "colab": {
          "base_uri": "https://localhost:8080/"
        },
        "id": "p6yv1tRTp5X8",
        "outputId": "1ec3c4f8-e05d-4219-ae47-5ddc72e4daac"
      },
      "execution_count": null,
      "outputs": [
        {
          "output_type": "stream",
          "name": "stdout",
          "text": [
            "2D Array of ones:\n",
            "[[1. 1. 1. 1.]\n",
            " [1. 1. 1. 1.]\n",
            " [1. 1. 1. 1.]]\n"
          ]
        }
      ]
    },
    {
      "cell_type": "code",
      "source": [
        "## Q.13) Write a function `generate_range_array` that takes three integers start, stop, and step as arguments and\n",
        "## creates a NumPy array with a range starting from `start`, ending at stop (exclusive), and with the specified `step`.\n",
        "import numpy as np\n",
        "\n",
        "def generate_range_array(start, stop, step):\n",
        "    return np.arange(start, stop, step)  # Create and return a NumPy array with the specified range and step\n",
        "\n",
        "# Example;\n",
        "start = 0\n",
        "stop = 10\n",
        "step = 2\n",
        "range_array = generate_range_array(start, stop, step)\n",
        "\n",
        "print(\"Range array:\", range_array)"
      ],
      "metadata": {
        "colab": {
          "base_uri": "https://localhost:8080/"
        },
        "id": "Moab-ENBp-UF",
        "outputId": "66076698-93ed-48c3-cace-e769c3544ec0"
      },
      "execution_count": null,
      "outputs": [
        {
          "output_type": "stream",
          "name": "stdout",
          "text": [
            "Range array: [0 2 4 6 8]\n"
          ]
        }
      ]
    },
    {
      "cell_type": "code",
      "source": [
        "## Q.14) Design a function `generate_linear_space` that takes two floats `start`, `stop`, and an integer `num` as\n",
        "## arguments and generates a NumPy array with num equally spaced values between `start` and `stop` (inclusive).\n",
        "import numpy as np\n",
        "\n",
        "def generate_linear_space(start, stop, num):\n",
        "    return np.linspace(start, stop, num)  # Create and return a NumPy array with num equally spaced values\n",
        "\n",
        "# Example;\n",
        "start = 0.0\n",
        "stop = 1.0\n",
        "num = 5\n",
        "linear_space_array = generate_linear_space(start, stop, num)\n",
        "\n",
        "print(\"Linear space array:\", linear_space_array)"
      ],
      "metadata": {
        "colab": {
          "base_uri": "https://localhost:8080/"
        },
        "id": "5286Cr7ZqA-n",
        "outputId": "6a72d1b3-5a52-4b96-d746-ce17aefe4f7e"
      },
      "execution_count": null,
      "outputs": [
        {
          "output_type": "stream",
          "name": "stdout",
          "text": [
            "Linear space array: [0.   0.25 0.5  0.75 1.  ]\n"
          ]
        }
      ]
    },
    {
      "cell_type": "code",
      "source": [
        "## Q.15) Create a function `create_identity_matrix` that takes an integer `n` as input and generates a\n",
        "##       square identity matrix of size `n x n` using `numpy.eye`.\n",
        "import numpy as np\n",
        "\n",
        "def create_identity_matrix(n):\n",
        "    return np.eye(n)  # Create and return an n x n identity matrix\n",
        "\n",
        "# Example;\n",
        "n = 4\n",
        "identity_matrix = create_identity_matrix(n)\n",
        "\n",
        "print(\"Identity matrix:\")\n",
        "print(identity_matrix)"
      ],
      "metadata": {
        "colab": {
          "base_uri": "https://localhost:8080/"
        },
        "id": "wJPbs59HqDku",
        "outputId": "c205d4d0-2437-4c5c-b66a-122f10c724cb"
      },
      "execution_count": null,
      "outputs": [
        {
          "output_type": "stream",
          "name": "stdout",
          "text": [
            "Identity matrix:\n",
            "[[1. 0. 0. 0.]\n",
            " [0. 1. 0. 0.]\n",
            " [0. 0. 1. 0.]\n",
            " [0. 0. 0. 1.]]\n"
          ]
        }
      ]
    },
    {
      "cell_type": "code",
      "source": [
        "## Q.16) Write a function that takes a Python list and converts it into a NumPy array.\n",
        "import numpy as np\n",
        "\n",
        "def list_to_numpy_array(py_list):\n",
        "    return np.array(py_list)  # Convert the Python list to a NumPy array and return it\n",
        "\n",
        "# Example;\n",
        "py_list = [1, 2, 3, 4, 5]\n",
        "numpy_array = list_to_numpy_array(py_list)\n",
        "\n",
        "print(\"NumPy array:\", numpy_array)"
      ],
      "metadata": {
        "colab": {
          "base_uri": "https://localhost:8080/"
        },
        "id": "uC7JGxVfqGej",
        "outputId": "a1b29687-8a53-495c-9bac-3f719db98524"
      },
      "execution_count": null,
      "outputs": [
        {
          "output_type": "stream",
          "name": "stdout",
          "text": [
            "NumPy array: [1 2 3 4 5]\n"
          ]
        }
      ]
    },
    {
      "cell_type": "code",
      "source": [
        "## Q.17) Create a NumPy array and demonstrate the use of `numpy.view` to create a new array object with the same data.\n",
        "import numpy as np\n",
        "\n",
        "# Create an original NumPy array\n",
        "original_array = np.array([10, 20, 30, 40, 50])\n",
        "\n",
        "# Create a view of the original array\n",
        "view_array = original_array.view()\n",
        "\n",
        "# Modify the view array\n",
        "view_array[0] = 99\n",
        "\n",
        "# Print both arrays to observe the effect\n",
        "print(\"Original array:\", original_array)\n",
        "print(\"View array:\", view_array)"
      ],
      "metadata": {
        "colab": {
          "base_uri": "https://localhost:8080/"
        },
        "id": "0XGiR-SEqKBB",
        "outputId": "814a8fe5-c6a0-4a97-f464-3b86eb2cbb99"
      },
      "execution_count": null,
      "outputs": [
        {
          "output_type": "stream",
          "name": "stdout",
          "text": [
            "Original array: [99 20 30 40 50]\n",
            "View array: [99 20 30 40 50]\n"
          ]
        }
      ]
    },
    {
      "cell_type": "code",
      "source": [
        "## Q.18) Write a function that takes two NumPy arrays and concatenates them along a specified axis.\n",
        "import numpy as np\n",
        "\n",
        "def concatenate_arrays(arr1, arr2, axis=0):\n",
        "    return np.concatenate((arr1, arr2), axis=axis)  # Concatenate the two arrays along the specified axis\n",
        "\n",
        "# Example;\n",
        "arr1 = np.array([[1, 2], [3, 4]])\n",
        "arr2 = np.array([[5, 6], [7, 8]])\n",
        "\n",
        "# Concatenate along axis 0 (rows)\n",
        "result_axis_0 = concatenate_arrays(arr1, arr2, axis=0)\n",
        "print(\"Concatenated along axis 0:\\n\", result_axis_0)\n",
        "\n",
        "# Concatenate along axis 1 (columns)\n",
        "result_axis_1 = concatenate_arrays(arr1, arr2, axis=1)\n",
        "print(\"Concatenated along axis 1:\\n\", result_axis_1)"
      ],
      "metadata": {
        "colab": {
          "base_uri": "https://localhost:8080/"
        },
        "id": "cXoG5dg_qOWk",
        "outputId": "4abdb0d7-1d59-46b7-e166-d52c11f46f00"
      },
      "execution_count": null,
      "outputs": [
        {
          "output_type": "stream",
          "name": "stdout",
          "text": [
            "Concatenated along axis 0:\n",
            " [[1 2]\n",
            " [3 4]\n",
            " [5 6]\n",
            " [7 8]]\n",
            "Concatenated along axis 1:\n",
            " [[1 2 5 6]\n",
            " [3 4 7 8]]\n"
          ]
        }
      ]
    },
    {
      "cell_type": "code",
      "source": [
        "## Q.19) Create two NumPy arrays with different shapes and concatenate them horizontally using `numpy.concatenate`.\n",
        "import numpy as np\n",
        "\n",
        "# Create two NumPy arrays with different shapes\n",
        "arr1 = np.array([[1, 2, 3], [4, 5, 6]])  # Shape: (2, 3)\n",
        "arr2 = np.array([[7, 8], [9, 10]])       # Shape: (2, 2)\n",
        "\n",
        "# Concatenate the arrays horizontally (along axis=1)\n",
        "result = np.concatenate((arr1, arr2), axis=1)\n",
        "\n",
        "# Print the result\n",
        "print(\"Concatenated array:\\n\", result)"
      ],
      "metadata": {
        "colab": {
          "base_uri": "https://localhost:8080/"
        },
        "id": "-I3LlF4LqRs0",
        "outputId": "53168920-0688-44f0-cf90-3aec6dd0e825"
      },
      "execution_count": null,
      "outputs": [
        {
          "output_type": "stream",
          "name": "stdout",
          "text": [
            "Concatenated array:\n",
            " [[ 1  2  3  7  8]\n",
            " [ 4  5  6  9 10]]\n"
          ]
        }
      ]
    },
    {
      "cell_type": "code",
      "source": [
        "## Q.20) Write a function that vertically stacks multiple NumPy arrays given as a list.\n",
        "import numpy as np\n",
        "\n",
        "def vertical_stack_arrays(array_list):\n",
        "    return np.vstack(array_list)  # Vertically stack the list of arrays\n",
        "\n",
        "# Example;\n",
        "arr1 = np.array([[1, 2], [3, 4]])\n",
        "arr2 = np.array([[5, 6], [7, 8]])\n",
        "arr3 = np.array([[9, 10], [11, 12]])\n",
        "\n",
        "# Vertically stack the arrays\n",
        "result = vertical_stack_arrays([arr1, arr2, arr3])\n",
        "\n",
        "# Print the result\n",
        "print(\"Vertically stacked array:\\n\", result)"
      ],
      "metadata": {
        "colab": {
          "base_uri": "https://localhost:8080/"
        },
        "id": "liTWT_4wqVwR",
        "outputId": "64598548-6e79-45b7-9ea0-178f664934e7"
      },
      "execution_count": null,
      "outputs": [
        {
          "output_type": "stream",
          "name": "stdout",
          "text": [
            "Vertically stacked array:\n",
            " [[ 1  2]\n",
            " [ 3  4]\n",
            " [ 5  6]\n",
            " [ 7  8]\n",
            " [ 9 10]\n",
            " [11 12]]\n"
          ]
        }
      ]
    },
    {
      "cell_type": "code",
      "source": [
        "## Q.21) Write a Python function using NumPy to create an array of integers within a specified range (inclusive) with a given step size.\n",
        "import numpy as np\n",
        "\n",
        "def create_integer_range(start, stop, step):\n",
        "    return np.arange(start, stop + 1, step)  # Create an array with a given step size, inclusive of the stop value\n",
        "\n",
        "# Example;\n",
        "start = 1\n",
        "stop = 10\n",
        "step = 2\n",
        "range_array = create_integer_range(start, stop, step)\n",
        "\n",
        "print(\"Integer range array:\", range_array)"
      ],
      "metadata": {
        "colab": {
          "base_uri": "https://localhost:8080/"
        },
        "id": "1uKHwF2zqYTu",
        "outputId": "298e6874-d20f-4e9a-a3d3-2ea13a73b488"
      },
      "execution_count": null,
      "outputs": [
        {
          "output_type": "stream",
          "name": "stdout",
          "text": [
            "Integer range array: [1 3 5 7 9]\n"
          ]
        }
      ]
    },
    {
      "cell_type": "code",
      "source": [
        "## Q.22) Write a Python function using NumPy to generate an array of 10 equally spaced values between 0 and 1 (inclusive).\n",
        "import numpy as np\n",
        "\n",
        "def generate_equal_spacing():\n",
        "    return np.linspace(0, 1, 10)  # Generate 10 equally spaced values between 0 and 1 (inclusive)\n",
        "\n",
        "# Example;\n",
        "equal_spacing_array = generate_equal_spacing()\n",
        "\n",
        "print(\"Equally spaced array:\", equal_spacing_array)"
      ],
      "metadata": {
        "colab": {
          "base_uri": "https://localhost:8080/"
        },
        "id": "MijHKS5_qbQQ",
        "outputId": "3c4891fa-79a3-4928-c326-fddd93e5572c"
      },
      "execution_count": null,
      "outputs": [
        {
          "output_type": "stream",
          "name": "stdout",
          "text": [
            "Equally spaced array: [0.         0.11111111 0.22222222 0.33333333 0.44444444 0.55555556\n",
            " 0.66666667 0.77777778 0.88888889 1.        ]\n"
          ]
        }
      ]
    },
    {
      "cell_type": "code",
      "source": [
        "## Q.23) Write a Python function using NumPy to create an array of 5 logarithmically spaced values between 1 and 1000 (inclusive).\n",
        "import numpy as np\n",
        "\n",
        "def generate_log_spacing():\n",
        "    return np.logspace(0, 3, 5)  # Generate 5 logarithmically spaced values between 10^0 (1) and 10^3 (1000)\n",
        "\n",
        "# Example;\n",
        "log_spacing_array = generate_log_spacing()\n",
        "\n",
        "print(\"Logarithmically spaced array:\", log_spacing_array)"
      ],
      "metadata": {
        "colab": {
          "base_uri": "https://localhost:8080/"
        },
        "id": "A4awQ1pEqd1o",
        "outputId": "5ba71b18-c59e-4ff2-9d50-065a8f4160ff"
      },
      "execution_count": null,
      "outputs": [
        {
          "output_type": "stream",
          "name": "stdout",
          "text": [
            "Logarithmically spaced array: [   1.            5.62341325   31.6227766   177.827941   1000.        ]\n"
          ]
        }
      ]
    },
    {
      "cell_type": "code",
      "source": [
        "## Q.24) Create a Pandas DataFrame using a NumPy array that contains 5 rows and 3 columns,\n",
        "##       where the values are random integers between 1 and 100.\n",
        "import numpy as np\n",
        "import pandas as pd\n",
        "\n",
        "# Generate a NumPy array with random integers between 1 and 100\n",
        "np.random.seed(0)  # For reproducibility\n",
        "data = np.random.randint(1, 101, size=(5, 3))  # 5 rows, 3 columns\n",
        "\n",
        "# Create a Pandas DataFrame from the NumPy array\n",
        "df = pd.DataFrame(data, columns=['Column1', 'Column2', 'Column3'])\n",
        "\n",
        "# Print the DataFrame\n",
        "print(\"Pandas DataFrame:\")\n",
        "print(df)"
      ],
      "metadata": {
        "colab": {
          "base_uri": "https://localhost:8080/"
        },
        "id": "51-WGEbAqiKh",
        "outputId": "f93988b6-9dda-4efc-a0d8-e88caa5ab354"
      },
      "execution_count": null,
      "outputs": [
        {
          "output_type": "stream",
          "name": "stdout",
          "text": [
            "Pandas DataFrame:\n",
            "   Column1  Column2  Column3\n",
            "0       45       48       65\n",
            "1       68       68       10\n",
            "2       84       22       37\n",
            "3       88       71       89\n",
            "4       89       13       59\n"
          ]
        }
      ]
    },
    {
      "cell_type": "code",
      "source": [
        "## Q.25) Write a function that takes a Pandas DataFrame and replaces all negative values in a specific column\n",
        "##       with zeros. Use NumPy operations within the Pandas DataFrame.\n",
        "import numpy as np\n",
        "import pandas as pd\n",
        "\n",
        "def replace_negatives_with_zero(df, column_name):\n",
        "    df[column_name] = np.where(df[column_name] < 0, 0, df[column_name])\n",
        "    return df\n",
        "\n",
        "# Example;\n",
        "# Create a sample DataFrame with some negative values\n",
        "data = {\n",
        "    'A': [10, -5, 20, -1, 30],\n",
        "    'B': [-10, 15, -20, 25, -30],\n",
        "    'C': [0, 5, -10, 15, -20]\n",
        "}\n",
        "df = pd.DataFrame(data)\n",
        "\n",
        "# Replace negative values in column 'A' with zeros\n",
        "df_modified = replace_negatives_with_zero(df, 'A')\n",
        "\n",
        "print(\"Modified DataFrame:\")\n",
        "print(df_modified)"
      ],
      "metadata": {
        "colab": {
          "base_uri": "https://localhost:8080/"
        },
        "id": "nQq_JfPqqksD",
        "outputId": "3bed1736-5589-4cfc-9d9b-3bd43062271b"
      },
      "execution_count": null,
      "outputs": [
        {
          "output_type": "stream",
          "name": "stdout",
          "text": [
            "Modified DataFrame:\n",
            "    A   B   C\n",
            "0  10 -10   0\n",
            "1   0  15   5\n",
            "2  20 -20 -10\n",
            "3   0  25  15\n",
            "4  30 -30 -20\n"
          ]
        }
      ]
    },
    {
      "cell_type": "code",
      "source": [
        "## Q.26) Access the 3rd element from the given NumPy array; arr = np.array([10, 20, 30, 40, 50])\n",
        "import numpy as np\n",
        "\n",
        "# Create the NumPy array\n",
        "arr = np.array([10, 20, 30, 40, 50])\n",
        "\n",
        "# Access the 3rd element (index 2)\n",
        "third_element = arr[2]\n",
        "\n",
        "print(\"The 3rd element is:\", third_element)"
      ],
      "metadata": {
        "colab": {
          "base_uri": "https://localhost:8080/"
        },
        "id": "LwUcoQduqnOi",
        "outputId": "898543e9-d71c-47d6-eab6-4c722fe64836"
      },
      "execution_count": null,
      "outputs": [
        {
          "output_type": "stream",
          "name": "stdout",
          "text": [
            "The 3rd element is: 30\n"
          ]
        }
      ]
    },
    {
      "cell_type": "code",
      "source": [
        "## Q.27) Retrieve the element at index (1, 2) from the 2D NumPy array: arr_2d = np.array([[1, 2, 3],[4, 5, 6],[7, 8, 9]])\n",
        "import numpy as np\n",
        "\n",
        "# Create the 2D NumPy array\n",
        "arr_2d = np.array([[1, 2, 3], [4, 5, 6], [7, 8, 9]])\n",
        "\n",
        "# Retrieve the element at index (1, 2)\n",
        "element = arr_2d[1, 2]\n",
        "\n",
        "print(\"Element at index (1, 2) is:\", element)"
      ],
      "metadata": {
        "colab": {
          "base_uri": "https://localhost:8080/"
        },
        "id": "McVCaR5DqsDg",
        "outputId": "ee10a420-89f9-430f-91b8-d2fcdb98dbe9"
      },
      "execution_count": null,
      "outputs": [
        {
          "output_type": "stream",
          "name": "stdout",
          "text": [
            "Element at index (1, 2) is: 6\n"
          ]
        }
      ]
    },
    {
      "cell_type": "code",
      "source": [
        "## Q.28) Using boolean indexing, extract elements greater than 5 from the given NumPy array: arr = np.array([3, 8, 2, 10, 5, 7])\n",
        "import numpy as np\n",
        "\n",
        "# Create the NumPy array\n",
        "arr = np.array([3, 8, 2, 10, 5, 7])\n",
        "\n",
        "# Use boolean indexing to extract elements greater than 5\n",
        "filtered_elements = arr[arr > 5]\n",
        "\n",
        "print(\"Elements greater than 5:\", filtered_elements)"
      ],
      "metadata": {
        "colab": {
          "base_uri": "https://localhost:8080/"
        },
        "id": "xobpAmn5qu0w",
        "outputId": "0f540733-bfbe-44de-cfe3-f0a86b1bb8e4"
      },
      "execution_count": null,
      "outputs": [
        {
          "output_type": "stream",
          "name": "stdout",
          "text": [
            "Elements greater than 5: [ 8 10  7]\n"
          ]
        }
      ]
    },
    {
      "cell_type": "code",
      "source": [
        "## Q.29) Perform basic slicing to extract elements from index 2 to 5 (inclusive) from the given NumPy array.\n",
        "##       arr = np.array([1, 2, 3, 4, 5, 6, 7, 8, 9])\n",
        "import numpy as np\n",
        "\n",
        "# Create the NumPy array\n",
        "arr = np.array([1, 2, 3, 4, 5, 6, 7, 8, 9])\n",
        "\n",
        "# Slice the array to get elements from index 2 to 5 (inclusive)\n",
        "sliced_array = arr[2:6]  # Note: the end index is exclusive, so use 6 to include the element at index 5\n",
        "\n",
        "print(\"Sliced array:\", sliced_array)"
      ],
      "metadata": {
        "colab": {
          "base_uri": "https://localhost:8080/"
        },
        "id": "RxI7XmzpqxQ2",
        "outputId": "472393e9-0977-4b58-bdec-7461126ff3a3"
      },
      "execution_count": null,
      "outputs": [
        {
          "output_type": "stream",
          "name": "stdout",
          "text": [
            "Sliced array: [3 4 5 6]\n"
          ]
        }
      ]
    },
    {
      "cell_type": "code",
      "source": [
        "## Q.30) Slice the 2D NumPy array to extract the sub-array `[[2, 3], [5, 6]]` from the given array.\n",
        "##       arr_2d = np.array([[1, 2, 3],[4, 5, 6], [7, 8, 9]])\n",
        "import numpy as np\n",
        "\n",
        "# Create the 2D NumPy array\n",
        "arr_2d = np.array([[1, 2, 3], [4, 5, 6], [7, 8, 9]])\n",
        "\n",
        "# Slice the array to extract the sub-array [[2, 3], [5, 6]]\n",
        "sub_array = arr_2d[0:2, 1:3]  # Rows 0 to 1 (inclusive) and columns 1 to 2 (inclusive)\n",
        "\n",
        "print(\"Sub-array:\")\n",
        "print(sub_array)"
      ],
      "metadata": {
        "colab": {
          "base_uri": "https://localhost:8080/"
        },
        "id": "4hvcvnYNqzyx",
        "outputId": "77f9cb4a-236a-458a-f395-ad28f632441c"
      },
      "execution_count": null,
      "outputs": [
        {
          "output_type": "stream",
          "name": "stdout",
          "text": [
            "Sub-array:\n",
            "[[2 3]\n",
            " [5 6]]\n"
          ]
        }
      ]
    },
    {
      "cell_type": "code",
      "source": [
        "## Q.31) Write a NumPy function to extract elements in specific order from a given 2D array based on indices provided in another array.\n",
        "import numpy as np\n",
        "\n",
        "def extract_elements_by_indices(arr_2d, indices):\n",
        "    # Extract elements based on indices\n",
        "    return arr_2d[indices[:, 0], indices[:, 1]]\n",
        "\n",
        "# Example;\n",
        "# Given 2D array\n",
        "arr_2d = np.array([[10, 20, 30],\n",
        "                   [40, 50, 60],\n",
        "                   [70, 80, 90]])\n",
        "\n",
        "# Indices to extract: (row, column)\n",
        "indices = np.array([[0, 1],  # Corresponds to 20\n",
        "                    [1, 2],  # Corresponds to 60\n",
        "                    [2, 0]]) # Corresponds to 70\n",
        "\n",
        "# Extract elements using the function\n",
        "extracted_elements = extract_elements_by_indices(arr_2d, indices)\n",
        "\n",
        "print(\"Extracted elements:\", extracted_elements)"
      ],
      "metadata": {
        "colab": {
          "base_uri": "https://localhost:8080/"
        },
        "id": "uVLQZVhY0xld",
        "outputId": "387182f9-28ab-4e5a-862c-6c479277ac30"
      },
      "execution_count": null,
      "outputs": [
        {
          "output_type": "stream",
          "name": "stdout",
          "text": [
            "Extracted elements: [20 60 70]\n"
          ]
        }
      ]
    },
    {
      "cell_type": "code",
      "source": [
        "## Q.32) Create a NumPy function that filters elements greater than a threshold from a given 1D array using boolean indexing.\n",
        "import numpy as np\n",
        "\n",
        "def filter_elements_greater_than(arr, threshold):\n",
        "    # Use boolean indexing to filter elements greater than the threshold\n",
        "    return arr[arr > threshold]\n",
        "\n",
        "# Example;\n",
        "# Given 1D array\n",
        "arr = np.array([2, 7, 11, 8, 14, 22, 9])\n",
        "\n",
        "# Threshold for filtering\n",
        "threshold = 9\n",
        "\n",
        "# Filter elements greater than the threshold\n",
        "filtered_elements = filter_elements_greater_than(arr, threshold)\n",
        "\n",
        "print(\"Filtered elements greater than\", threshold, \":\", filtered_elements)"
      ],
      "metadata": {
        "colab": {
          "base_uri": "https://localhost:8080/"
        },
        "id": "OjzN2_zI1kWj",
        "outputId": "fed542e0-bbc5-4330-b3e9-5bea7595823e"
      },
      "execution_count": null,
      "outputs": [
        {
          "output_type": "stream",
          "name": "stdout",
          "text": [
            "Filtered elements greater than 9 : [11 14 22]\n"
          ]
        }
      ]
    },
    {
      "cell_type": "code",
      "source": [
        "## Q.33) Develop a NumPy function that extracts specific elements from a 3D array using indices provided in three separate arrays for each dimension.\n",
        "import numpy as np\n",
        "\n",
        "def extract_elements_from_3d_array(arr_3d, row_indices, col_indices, depth_indices):\n",
        "    # Ensure indices are arrays\n",
        "    row_indices = np.array(row_indices)\n",
        "    col_indices = np.array(col_indices)\n",
        "    depth_indices = np.array(depth_indices)\n",
        "\n",
        "    # Extract elements using the indices\n",
        "    return arr_3d[row_indices, col_indices, depth_indices]\n",
        "\n",
        "# Example;\n",
        "# Create a 3D NumPy array\n",
        "arr_3d = np.array([[[11, 12, 13],\n",
        "                    [14, 15, 16],\n",
        "                    [17, 18, 19]],\n",
        "\n",
        "                   [[20, 21, 22],\n",
        "                    [23, 24, 25],\n",
        "                    [26, 27, 28]],\n",
        "\n",
        "                   [[29, 30, 31],\n",
        "                    [32, 33, 34],\n",
        "                    [35, 36, 37]]])\n",
        "\n",
        "# Indices for each dimension\n",
        "row_indices = [0, 1, 2]\n",
        "col_indices = [1, 2, 0]\n",
        "depth_indices = [2, 1, 0]\n",
        "\n",
        "# Extract elements using the function\n",
        "extracted_elements = extract_elements_from_3d_array(arr_3d, row_indices, col_indices, depth_indices)\n",
        "\n",
        "print(\"Extracted elements:\", extracted_elements)"
      ],
      "metadata": {
        "colab": {
          "base_uri": "https://localhost:8080/"
        },
        "id": "x9bGVkn-2VWo",
        "outputId": "e2aca174-0271-4bbc-e4fa-bea8cd6e9111"
      },
      "execution_count": null,
      "outputs": [
        {
          "output_type": "stream",
          "name": "stdout",
          "text": [
            "Extracted elements: [16 27 29]\n"
          ]
        }
      ]
    },
    {
      "cell_type": "code",
      "source": [
        "## Q.34) Write a NumPy function that returns elements from an array where both two conditions are satisfied using boolean indexing.\n",
        "import numpy as np\n",
        "\n",
        "def filter_elements_with_conditions(arr, condition1, condition2):\n",
        "    # Apply both conditions using logical AND\n",
        "    combined_condition = condition1 & condition2\n",
        "    # Filter elements based on the combined condition\n",
        "    return arr[combined_condition]\n",
        "\n",
        "# Example;\n",
        "# Given 1D array\n",
        "arr = np.array([3, 8, 5, 12, 1, 16, 9, 20])\n",
        "\n",
        "# Define two conditions\n",
        "condition1 = arr > 6       # Elements greater than 3\n",
        "condition2 = arr % 2 == 0  # Elements that are even\n",
        "\n",
        "# Filter elements where both conditions are satisfied\n",
        "filtered_elements = filter_elements_with_conditions(arr, condition1, condition2)\n",
        "\n",
        "print(\"Filtered elements where both conditions are satisfied:\", filtered_elements)"
      ],
      "metadata": {
        "colab": {
          "base_uri": "https://localhost:8080/"
        },
        "id": "y4zyzjGd40iC",
        "outputId": "b0a58346-2f0c-41c7-994e-5bd8adaaf5e7"
      },
      "execution_count": null,
      "outputs": [
        {
          "output_type": "stream",
          "name": "stdout",
          "text": [
            "Filtered elements where both conditions are satisfied: [ 8 12 16 20]\n"
          ]
        }
      ]
    },
    {
      "cell_type": "code",
      "source": [
        "## Q.35) Create a NumPy function that extracts elements from a 2D array using row and column indices provided in separate arrays.\n",
        "import numpy as np\n",
        "\n",
        "def extract_elements_2d(arr_2d, row_indices, col_indices):\n",
        "    # Ensure indices are arrays\n",
        "    row_indices = np.array(row_indices)\n",
        "    col_indices = np.array(col_indices)\n",
        "\n",
        "    # Extract elements using the row and column indices\n",
        "    return arr_2d[row_indices, col_indices]\n",
        "\n",
        "# Example;\n",
        "# Create a 2D NumPy array\n",
        "arr_2d = np.array([[11, 21, 31],\n",
        "                   [41, 51, 61],\n",
        "                   [71, 81, 91]])\n",
        "\n",
        "# Indices for rows and columns\n",
        "row_indices = [0, 1, 2]\n",
        "col_indices = [1, 2, 0]\n",
        "\n",
        "# Extract elements using the function\n",
        "extracted_elements = extract_elements_2d(arr_2d, row_indices, col_indices)\n",
        "\n",
        "print(\"Extracted elements:\", extracted_elements)"
      ],
      "metadata": {
        "colab": {
          "base_uri": "https://localhost:8080/"
        },
        "id": "756H7PT55cpW",
        "outputId": "4fea198e-4334-4ea7-d77d-00b4a91d23e2"
      },
      "execution_count": null,
      "outputs": [
        {
          "output_type": "stream",
          "name": "stdout",
          "text": [
            "Extracted elements: [21 61 71]\n"
          ]
        }
      ]
    },
    {
      "cell_type": "code",
      "source": [
        "## Q.36) Given an array arr of shape (3, 3), add a scalar value of 5 to each element using NumPy broadcasting.\n",
        "import numpy as np\n",
        "\n",
        "# Create a 2D NumPy array of shape (3, 3)\n",
        "arr = np.array([[5, 6, 7],\n",
        "                [8, 9, 10],\n",
        "                [11, 12, 13]])\n",
        "\n",
        "# Scalar value to add\n",
        "scalar = 10\n",
        "\n",
        "# Add the scalar value to each element of the array using broadcasting\n",
        "result = arr + scalar\n",
        "\n",
        "print(\"Original array:\")\n",
        "print(arr)\n",
        "print(\"\\nArray after adding scalar value:\")\n",
        "print(result)"
      ],
      "metadata": {
        "colab": {
          "base_uri": "https://localhost:8080/"
        },
        "id": "QkJlaFFe7HDC",
        "outputId": "bce60116-3b2c-42df-d75c-af21f379ce01"
      },
      "execution_count": null,
      "outputs": [
        {
          "output_type": "stream",
          "name": "stdout",
          "text": [
            "Original array:\n",
            "[[ 5  6  7]\n",
            " [ 8  9 10]\n",
            " [11 12 13]]\n",
            "\n",
            "Array after adding scalar value:\n",
            "[[15 16 17]\n",
            " [18 19 20]\n",
            " [21 22 23]]\n"
          ]
        }
      ]
    },
    {
      "cell_type": "code",
      "source": [
        "## Q.37) Consider two arrays arr1 of shape (1, 3) and arr2 of shape (3, 4). Multiply each row of arr2\n",
        "##       by the corresponding element in arr1 using NumPy broadcasting.\n",
        "import numpy as np\n",
        "\n",
        "# Define the arrays\n",
        "arr1 = np.array([[2, 3, 4]])  # Shape (1, 3)\n",
        "arr2 = np.array([[5, 6, 7, 8],   # Shape (3, 4)\n",
        "                 [2, 9, 1, 3],\n",
        "                 [3, 1, 7, 5]])\n",
        "\n",
        "# Reshape arr1 to be broadcastable over arr2\n",
        "arr1_reshaped = arr1.T  # Transpose to shape (3, 1)\n",
        "\n",
        "# Perform the multiplication\n",
        "result = arr1_reshaped * arr2\n",
        "\n",
        "print(result)"
      ],
      "metadata": {
        "colab": {
          "base_uri": "https://localhost:8080/"
        },
        "id": "ceEIcsVJA14v",
        "outputId": "e7034742-9ac9-47c7-d7e2-366842ec2302"
      },
      "execution_count": 1,
      "outputs": [
        {
          "output_type": "stream",
          "name": "stdout",
          "text": [
            "[[10 12 14 16]\n",
            " [ 6 27  3  9]\n",
            " [12  4 28 20]]\n"
          ]
        }
      ]
    },
    {
      "cell_type": "code",
      "source": [
        "##Q.38) Given a 1D array arr1 of shape (1, 4) and a 2D array arr2 of shape (4, 3), add arr1 to each row of arr2 using NumPy broadcasting.\n",
        "import numpy as np\n",
        "\n",
        "# Define arrays\n",
        "arr1 = np.array([[1, 2, 3, 4]])  # Shape (1, 4)\n",
        "arr2 = np.array([[5, 6, 7],\n",
        "                 [8, 9, 10],\n",
        "                 [11, 12, 13],\n",
        "                 [14, 15, 16]])  # Shape (4, 3)\n",
        "\n",
        "# Reshape arr1 to shape (4, 1) to enable broadcasting with arr2\n",
        "arr1_reshaped = arr1[:, :arr2.shape[1]]  # Select only the first 3 elements to match arr2's column count\n",
        "\n",
        "# Add arr1 to each row of arr2\n",
        "result = arr2 + arr1_reshaped\n",
        "\n",
        "print(\"arr1:\")\n",
        "print(arr1)\n",
        "print(\"\\narr2:\")\n",
        "print(arr2)\n",
        "print(\"\\nResult after broadcasting and addition:\")\n",
        "print(result)"
      ],
      "metadata": {
        "colab": {
          "base_uri": "https://localhost:8080/"
        },
        "id": "RIZiuBcZ87az",
        "outputId": "63565c33-e495-4e03-dd60-65d203e7286f"
      },
      "execution_count": null,
      "outputs": [
        {
          "output_type": "stream",
          "name": "stdout",
          "text": [
            "arr1:\n",
            "[[1 2 3 4]]\n",
            "\n",
            "arr2:\n",
            "[[ 5  6  7]\n",
            " [ 8  9 10]\n",
            " [11 12 13]\n",
            " [14 15 16]]\n",
            "\n",
            "Result after broadcasting and addition:\n",
            "[[ 6  8 10]\n",
            " [ 9 11 13]\n",
            " [12 14 16]\n",
            " [15 17 19]]\n"
          ]
        }
      ]
    },
    {
      "cell_type": "code",
      "source": [
        "## Q.39) Consider two arrays arr1 of shape (3, 1) and arr2 of shape (1, 3). Add these arrays using NumPy broadcasting.\n",
        "import numpy as np\n",
        "\n",
        "# Define arrays\n",
        "arr1 = np.array([[1], [2], [3]])  # Shape (3, 1)\n",
        "arr2 = np.array([[4, 5, 6]])       # Shape (1, 3)\n",
        "\n",
        "# Add the arrays using broadcasting\n",
        "result = arr1 + arr2\n",
        "\n",
        "print(\"arr1:\")\n",
        "print(arr1)\n",
        "print(\"\\narr2:\")\n",
        "print(arr2)\n",
        "print(\"\\nResult after broadcasting and addition:\")\n",
        "print(result)"
      ],
      "metadata": {
        "colab": {
          "base_uri": "https://localhost:8080/"
        },
        "id": "REh88vNd_CMB",
        "outputId": "1199fb0e-b5fc-4b87-cc99-cc4f735ea01b"
      },
      "execution_count": null,
      "outputs": [
        {
          "output_type": "stream",
          "name": "stdout",
          "text": [
            "arr1:\n",
            "[[1]\n",
            " [2]\n",
            " [3]]\n",
            "\n",
            "arr2:\n",
            "[[4 5 6]]\n",
            "\n",
            "Result after broadcasting and addition:\n",
            "[[5 6 7]\n",
            " [6 7 8]\n",
            " [7 8 9]]\n"
          ]
        }
      ]
    },
    {
      "cell_type": "code",
      "source": [
        "## Q.40) Given arrays arr1 of shape (2, 3) and arr2 of shape (2, 2), perform multiplication using NumPy\n",
        "##       broadcasting. Handle the shape incompatibility.\n",
        "import numpy as np\n",
        "\n",
        "# Define arrays\n",
        "arr1 = np.array([[1, 2, 3],\n",
        "                 [4, 5, 6]])  # Shape (2, 3)\n",
        "arr2 = np.array([[10, 20],       # Shape (2, 2)\n",
        "                 [30, 40]])\n",
        "\n",
        "# Reshape arr2 to (2, 1, 2) to enable broadcasting\n",
        "arr2_reshaped = arr2[:, :, np.newaxis]  # Add a new axis for broadcasting\n",
        "\n",
        "# Perform multiplication using broadcasting\n",
        "result = arr1 * arr2_reshaped\n",
        "\n",
        "print(\"arr1:\")\n",
        "print(arr1)\n",
        "print(\"\\narr2 reshaped:\")\n",
        "print(arr2_reshaped)\n",
        "print(\"\\nResult after broadcasting and multiplication:\")\n",
        "print(result)"
      ],
      "metadata": {
        "colab": {
          "base_uri": "https://localhost:8080/"
        },
        "id": "-oPeVE0i_Yg6",
        "outputId": "c5631a27-88ab-4a63-c940-88a87ffec567"
      },
      "execution_count": null,
      "outputs": [
        {
          "output_type": "stream",
          "name": "stdout",
          "text": [
            "arr1:\n",
            "[[1 2 3]\n",
            " [4 5 6]]\n",
            "\n",
            "arr2 reshaped:\n",
            "[[[10]\n",
            "  [20]]\n",
            "\n",
            " [[30]\n",
            "  [40]]]\n",
            "\n",
            "Result after broadcasting and multiplication:\n",
            "[[[ 10  20  30]\n",
            "  [ 80 100 120]]\n",
            "\n",
            " [[ 30  60  90]\n",
            "  [160 200 240]]]\n"
          ]
        }
      ]
    },
    {
      "cell_type": "code",
      "source": [
        "## Q.41) Calculate column wise mean for the given array: arr = np.array([[1, 2, 3], [4, 5, 6]])\n",
        "import numpy as np\n",
        "\n",
        "arr = np.array([[1, 2, 3], [4, 5, 6]])\n",
        "\n",
        "column_wise_mean = np.mean(arr, axis=0)\n",
        "\n",
        "print(column_wise_mean)"
      ],
      "metadata": {
        "id": "COXiNDz-_6WU",
        "colab": {
          "base_uri": "https://localhost:8080/"
        },
        "outputId": "381cad76-4cdd-49e8-bb87-b7e8e9e3ddc8"
      },
      "execution_count": null,
      "outputs": [
        {
          "output_type": "stream",
          "name": "stdout",
          "text": [
            "[2.5 3.5 4.5]\n"
          ]
        }
      ]
    },
    {
      "cell_type": "code",
      "source": [
        "## Q.42) Find maximum value in each row of the given array: arr = np.array([[1, 2, 3], [4, 5, 6]])\n",
        "import numpy as np\n",
        "\n",
        "arr = np.array([[1, 2, 3], [4, 5, 6]])\n",
        "\n",
        "row_wise_max = np.max(arr, axis=1)\n",
        "\n",
        "print(row_wise_max)"
      ],
      "metadata": {
        "id": "uKEGzkKWBx8h",
        "colab": {
          "base_uri": "https://localhost:8080/"
        },
        "outputId": "ad7854af-517d-4ad2-bebf-6a28a7346f87"
      },
      "execution_count": null,
      "outputs": [
        {
          "output_type": "stream",
          "name": "stdout",
          "text": [
            "[3 6]\n"
          ]
        }
      ]
    },
    {
      "cell_type": "code",
      "source": [
        "## Q.43) For the given array, find indices of maximum value in each column.\n",
        "##        arr = np.array([[1, 2, 3], [4, 5, 6]])\n",
        "import numpy as np\n",
        "\n",
        "arr = np.array([[1, 2, 3], [4, 5, 6]])\n",
        "\n",
        "column_max_indices = np.argmax(arr, axis=0)\n",
        "\n",
        "print(column_max_indices)"
      ],
      "metadata": {
        "id": "KhzT6cVhB7Ml",
        "colab": {
          "base_uri": "https://localhost:8080/"
        },
        "outputId": "94065189-7615-44a8-9408-0bde4d397df0"
      },
      "execution_count": null,
      "outputs": [
        {
          "output_type": "stream",
          "name": "stdout",
          "text": [
            "[1 1 1]\n"
          ]
        }
      ]
    },
    {
      "cell_type": "code",
      "source": [
        "## Q.44) For the given array, apply custom function to calculate moving sum along rows.\n",
        "##       arr = np.array([[1, 2, 3], [4, 5, 6]])\n",
        "import numpy as np\n",
        "\n",
        "arr = np.array([[1, 2, 3], [4, 5, 6]])\n",
        "\n",
        "moving_sum = np.cumsum(arr, axis=1)\n",
        "\n",
        "print(moving_sum)"
      ],
      "metadata": {
        "id": "PzbfHXnBCDpV",
        "colab": {
          "base_uri": "https://localhost:8080/"
        },
        "outputId": "3824309e-4381-4110-9fba-50ffa4c50155"
      },
      "execution_count": null,
      "outputs": [
        {
          "output_type": "stream",
          "name": "stdout",
          "text": [
            "[[ 1  3  6]\n",
            " [ 4  9 15]]\n"
          ]
        }
      ]
    },
    {
      "cell_type": "code",
      "source": [
        "## Q.45) In the given array, check if all elements in each column are even.\n",
        "##        arr = np.array([[2, 4, 6], [3, 5, 7]])\n",
        "import numpy as np\n",
        "\n",
        "arr = np.array([[2, 4, 6], [3, 5, 7]])\n",
        "\n",
        "# Check if all elements in each column are even\n",
        "is_even_in_columns = np.all(arr % 2 == 0, axis=0)\n",
        "\n",
        "print(is_even_in_columns)"
      ],
      "metadata": {
        "id": "zj9XJXYqCPcn",
        "colab": {
          "base_uri": "https://localhost:8080/"
        },
        "outputId": "486c869a-6fdb-47c9-a7c7-71d8f283b6e2"
      },
      "execution_count": null,
      "outputs": [
        {
          "output_type": "stream",
          "name": "stdout",
          "text": [
            "[False False False]\n"
          ]
        }
      ]
    },
    {
      "cell_type": "code",
      "source": [
        "## Q.46) Given a NumPy array arr, reshape it into a matrix of dimensions `m` rows and `n` columns. Return the reshaped matrix.\n",
        "##        original_array = np.array([1, 2, 3, 4, 5, 6])\n",
        "import numpy as np\n",
        "\n",
        "def reshape_matrix(original_array, m, n):\n",
        "  \"\"\"Reshapes a 1D array into a matrix of dimensions m rows and n columns.\n",
        "\n",
        "  Args:\n",
        "    original_array: The original 1D array.\n",
        "    m: The number of rows in the reshaped matrix.\n",
        "    n: The number of columns in the reshaped matrix.\n",
        "\n",
        "  Returns:\n",
        "    The reshaped matrix.\n",
        "\n",
        "  Raises:\n",
        "    ValueError: If the product of m and n is not equal to the length of the original array.\n",
        "  \"\"\"\n",
        "\n",
        "  if m * n != len(original_array):\n",
        "    raise ValueError(\"The product of m and n must be equal to the length of the original array.\")\n",
        "\n",
        "  return original_array.reshape(m, n)\n",
        "\n",
        "original_array = np.array([1, 2, 3, 4, 5, 6])\n",
        "reshaped_matrix = reshape_matrix(original_array, 2, 3)\n",
        "\n",
        "print(reshaped_matrix)"
      ],
      "metadata": {
        "id": "5uFlA7D1CgBy",
        "colab": {
          "base_uri": "https://localhost:8080/"
        },
        "outputId": "59d0b528-de8b-4fd2-b54b-dc19439c2ed4"
      },
      "execution_count": null,
      "outputs": [
        {
          "output_type": "stream",
          "name": "stdout",
          "text": [
            "[[1 2 3]\n",
            " [4 5 6]]\n"
          ]
        }
      ]
    },
    {
      "cell_type": "code",
      "source": [
        "## Q.47) Create a function that takes a matrix as input and returns the flattened array.\n",
        "##        input_matrix = np.array([[1, 2, 3], [4, 5, 6]])\n",
        "import numpy as np\n",
        "\n",
        "def flatten_matrix(matrix):\n",
        "  \"\"\"Flattens a matrix into a 1D array.\n",
        "  Args:\n",
        "    matrix: The input matrix.\n",
        "  Returns:\n",
        "    The flattened array.\n",
        "  \"\"\"\n",
        "\n",
        "  return matrix.flatten()\n",
        "\n",
        "input_matrix = np.array([[1, 2, 3], [4, 5, 6]])\n",
        "flattened_array = flatten_matrix(input_matrix)\n",
        "\n",
        "print(flattened_array)"
      ],
      "metadata": {
        "id": "vnuK2xdhCvCX",
        "colab": {
          "base_uri": "https://localhost:8080/"
        },
        "outputId": "c746a606-c877-4206-a5c6-3a312b33fbed"
      },
      "execution_count": null,
      "outputs": [
        {
          "output_type": "stream",
          "name": "stdout",
          "text": [
            "[1 2 3 4 5 6]\n"
          ]
        }
      ]
    },
    {
      "cell_type": "code",
      "source": [
        "## Q.48) Write a function that concatenates two given arrays along a specified axis.\n",
        "##       array1 = np.array([[1, 2], [3, 4]]) and array2 = np.array([[5, 6], [7, 8]])\n",
        "import numpy as np\n",
        "\n",
        "def concatenate_arrays(array1, array2, axis=0):\n",
        "  \"\"\"Concatenates two given arrays along a specified axis.\n",
        "\n",
        "  Args:\n",
        "    array1: The first array.\n",
        "    array2: The second array.\n",
        "    axis: The axis along which to concatenate the arrays.\n",
        "\n",
        "  Returns:\n",
        "    The concatenated array.\n",
        "\n",
        "  Raises:\n",
        "    ValueError: If the arrays have incompatible shapes for the specified axis.\n",
        "  \"\"\"\n",
        "\n",
        "  return np.concatenate((array1, array2), axis=axis)\n",
        "\n",
        "array1 = np.array([[1, 2], [3, 4]])\n",
        "array2 = np.array([[5, 6], [7, 8]])\n",
        "\n",
        "concatenated_array = concatenate_arrays(array1, array2, axis=1)\n",
        "\n",
        "print(concatenated_array)"
      ],
      "metadata": {
        "id": "s33E0WDPC44T",
        "colab": {
          "base_uri": "https://localhost:8080/"
        },
        "outputId": "0b1457ea-80e9-44d2-fcfa-b9f6f8a81a17"
      },
      "execution_count": null,
      "outputs": [
        {
          "output_type": "stream",
          "name": "stdout",
          "text": [
            "[[1 2 5 6]\n",
            " [3 4 7 8]]\n"
          ]
        }
      ]
    },
    {
      "cell_type": "code",
      "source": [
        "## Q.49) Create a function that splits an array into multiple sub-arrays along a specified axis.\n",
        "##       original_array = np.array([[1, 2, 3], [4, 5, 6], [7, 8, 9]])\n",
        "import numpy as np\n",
        "\n",
        "def split_array(array, axis, num_splits):\n",
        "  \"\"\"Splits an array into multiple sub-arrays along a specified axis.\n",
        "\n",
        "  Args:\n",
        "    array: The original array.\n",
        "    axis: The axis along which to split the array.\n",
        "    num_splits: The number of sub-arrays to create.\n",
        "\n",
        "  Returns:\n",
        "    A list of sub-arrays.\n",
        "\n",
        "  Raises:\n",
        "    ValueError: If the array cannot be split into the specified number of sub-arrays along the given axis.\n",
        "  \"\"\"\n",
        "\n",
        "  if array.shape[axis] % num_splits != 0:\n",
        "    raise ValueError(\"The array cannot be split into the specified number of sub-arrays along the given axis.\")\n",
        "\n",
        "  split_size = array.shape[axis] // num_splits\n",
        "  return np.split(array, num_splits, axis)\n",
        "\n",
        "original_array = np.array([[1, 2, 3], [4, 5, 6], [7, 8, 9]])\n",
        "sub_arrays = split_array(original_array, axis=0, num_splits=3)\n",
        "\n",
        "print(sub_arrays)"
      ],
      "metadata": {
        "id": "wmXvToJhDNbE",
        "colab": {
          "base_uri": "https://localhost:8080/"
        },
        "outputId": "4850a5ef-a94f-4186-c446-0b14618d6e5b"
      },
      "execution_count": null,
      "outputs": [
        {
          "output_type": "stream",
          "name": "stdout",
          "text": [
            "[array([[1, 2, 3]]), array([[4, 5, 6]]), array([[7, 8, 9]])]\n"
          ]
        }
      ]
    },
    {
      "cell_type": "code",
      "source": [
        "## Q.50) Write a function that inserts and then deletes elements from a given array at specified indices.\n",
        "##        original_array = np.array([1, 2, 3, 4, 5])\n",
        "##        indices_to_insert = [2, 4] , values_to_insert = [10, 11] , indices_to_delete = [1, 3]\n",
        "import numpy as np\n",
        "\n",
        "def insert_and_delete(original_array, indices_to_insert, values_to_insert, indices_to_delete):\n",
        "  \"\"\"Inserts and then deletes elements from a given array at specified indices.\n",
        "\n",
        "  Args:\n",
        "    original_array: The original array.\n",
        "    indices_to_insert: A list of indices where to insert the new elements.\n",
        "    values_to_insert: A list of values to insert.\n",
        "    indices_to_delete: A list of indices where to delete elements.\n",
        "\n",
        "  Returns:\n",
        "    The modified array.\n",
        "\n",
        "  Raises:\n",
        "    ValueError: If the indices to insert or delete are out of bounds.\n",
        "  \"\"\"\n",
        "\n",
        "  # Insert elements\n",
        "  for index, value in zip(indices_to_insert, values_to_insert):\n",
        "    if index < 0 or index > len(original_array):\n",
        "      raise ValueError(\"Index out of bounds for insertion.\")\n",
        "    original_array = np.insert(original_array, index, value)\n",
        "\n",
        "  # Delete elements\n",
        "  for index in sorted(indices_to_delete, reverse=True):\n",
        "    if index < 0 or index >= len(original_array):\n",
        "      raise ValueError(\"Index out of bounds for deletion.\")\n",
        "    original_array = np.delete(original_array, index)\n",
        "\n",
        "  return original_array\n",
        "\n",
        "original_array = np.array([1, 2, 3, 4, 5])\n",
        "indices_to_insert = [2, 4]\n",
        "values_to_insert = [10, 11]\n",
        "indices_to_delete = [1, 3]\n",
        "\n",
        "modified_array = insert_and_delete(original_array, indices_to_insert, values_to_insert, indices_to_delete)\n",
        "\n",
        "print(modified_array)"
      ],
      "metadata": {
        "id": "QkoUzefCDa0q",
        "colab": {
          "base_uri": "https://localhost:8080/"
        },
        "outputId": "48294a2d-4ed7-4187-dc54-c78970dfa0ae"
      },
      "execution_count": null,
      "outputs": [
        {
          "output_type": "stream",
          "name": "stdout",
          "text": [
            "[ 1 10 11  4  5]\n"
          ]
        }
      ]
    },
    {
      "cell_type": "code",
      "source": [
        "## Q.51) Create a NumPy array `arr1` with random integers and another array `arr2` with integers from 1 to 10.\n",
        "##        Perform element-wise addition between `arr1` and `arr2`.\n",
        "import numpy as np\n",
        "\n",
        "# Create array arr1 with random integers\n",
        "arr1 = np.random.randint(low=0, high=100, size=10)\n",
        "\n",
        "# Create array arr2 with integers from 1 to 10\n",
        "arr2 = np.arange(1, 11)\n",
        "\n",
        "# Perform element-wise addition\n",
        "result = arr1 + arr2\n",
        "\n",
        "print(\"arr1:\", arr1)\n",
        "print(\"arr2:\", arr2)\n",
        "print(\"Result:\", result)"
      ],
      "metadata": {
        "id": "IGjpGiiwEAjq",
        "colab": {
          "base_uri": "https://localhost:8080/"
        },
        "outputId": "9f91077c-8ac2-44c4-d1f2-3cad83ed8aa4"
      },
      "execution_count": null,
      "outputs": [
        {
          "output_type": "stream",
          "name": "stdout",
          "text": [
            "arr1: [96 60  8 99 66  9 10 57 68 81]\n",
            "arr2: [ 1  2  3  4  5  6  7  8  9 10]\n",
            "Result: [ 97  62  11 103  71  15  17  65  77  91]\n"
          ]
        }
      ]
    },
    {
      "cell_type": "code",
      "source": [
        "## Q.52) Generate a NumPy array `arr1` with sequential integers from 10 to 1 and another array `arr2` with integers\n",
        "##        from 1 to 10. Subtract `arr2` from `arr1` element-wise.\n",
        "import numpy as np\n",
        "\n",
        "# Create array arr1 with sequential integers from 10 to 1\n",
        "arr1 = np.arange(10, 0, -1)\n",
        "\n",
        "# Create array arr2 with integers from 1 to 10\n",
        "arr2 = np.arange(1, 11)\n",
        "\n",
        "# Subtract arr2 from arr1 element-wise\n",
        "result = arr1 - arr2\n",
        "\n",
        "print(\"arr1:\", arr1)\n",
        "print(\"arr2:\", arr2)\n",
        "print(\"Result:\", result)"
      ],
      "metadata": {
        "id": "2QYtdTQWEMdM",
        "colab": {
          "base_uri": "https://localhost:8080/"
        },
        "outputId": "b8051350-78c1-402b-c0e9-fa7525cd26fd"
      },
      "execution_count": null,
      "outputs": [
        {
          "output_type": "stream",
          "name": "stdout",
          "text": [
            "arr1: [10  9  8  7  6  5  4  3  2  1]\n",
            "arr2: [ 1  2  3  4  5  6  7  8  9 10]\n",
            "Result: [ 9  7  5  3  1 -1 -3 -5 -7 -9]\n"
          ]
        }
      ]
    },
    {
      "cell_type": "code",
      "source": [
        "## Q.53) Create a NumPy array `arr1` with random integers and another array `arr2` with integers from 1 to 5.\n",
        "##        Perform element-wise multiplication between `arr1` and `arr2`.\n",
        "import numpy as np\n",
        "\n",
        "# Create array arr1 with random integers\n",
        "arr1 = np.random.randint(low=0, high=30, size=5)\n",
        "\n",
        "# Create array arr2 with integers from 1 to 5\n",
        "arr2 = np.arange(1, 6)\n",
        "\n",
        "# Perform element-wise multiplication\n",
        "result = arr1 * arr2\n",
        "\n",
        "print(\"arr1:\", arr1)\n",
        "print(\"arr2:\", arr2)\n",
        "print(\"Result:\", result)"
      ],
      "metadata": {
        "id": "uurTK1r1EXWX",
        "colab": {
          "base_uri": "https://localhost:8080/"
        },
        "outputId": "4cc931ab-3e54-4ef4-c6cb-6e906491e3b5"
      },
      "execution_count": null,
      "outputs": [
        {
          "output_type": "stream",
          "name": "stdout",
          "text": [
            "arr1: [18 15 20 27  9]\n",
            "arr2: [1 2 3 4 5]\n",
            "Result: [ 18  30  60 108  45]\n"
          ]
        }
      ]
    },
    {
      "cell_type": "code",
      "source": [
        "## Q.54) Generate a NumPy array `arr1` with even integers from 2 to 10 and another array `arr2` with integers from 1\n",
        "##        to 5. Perform element-wise division of `arr1` by `arr2`.\n",
        "import numpy as np\n",
        "\n",
        "# Create array arr1 with even integers from 2 to 10\n",
        "arr1 = np.arange(2, 11, 2)\n",
        "\n",
        "# Create array arr2 with integers from 1 to 5\n",
        "arr2 = np.arange(1, 6)\n",
        "\n",
        "# Perform element-wise division of arr1 by arr2\n",
        "result = arr1 / arr2\n",
        "\n",
        "print(\"arr1:\", arr1)\n",
        "print(\"arr2:\", arr2)\n",
        "print(\"Result:\", result)"
      ],
      "metadata": {
        "id": "537HjVrsEgGM",
        "colab": {
          "base_uri": "https://localhost:8080/"
        },
        "outputId": "87a20ac0-fae5-452c-d48c-016c8d7fe796"
      },
      "execution_count": null,
      "outputs": [
        {
          "output_type": "stream",
          "name": "stdout",
          "text": [
            "arr1: [ 2  4  6  8 10]\n",
            "arr2: [1 2 3 4 5]\n",
            "Result: [2. 2. 2. 2. 2.]\n"
          ]
        }
      ]
    },
    {
      "cell_type": "code",
      "source": [
        "## Q.55) Create a NumPy array `arr1` with integers from 1 to 5 and another array `arr2` with the same numbers\n",
        "##        reversed. Calculate the exponentiation of `arr1` raised to the power of `arr2` element-wise.\n",
        "import numpy as np\n",
        "\n",
        "# Create the arrays\n",
        "arr1 = np.array([1, 2, 3, 4, 5])\n",
        "arr2 = np.array([5, 4, 3, 2, 1])\n",
        "\n",
        "# Perform element-wise exponentiation\n",
        "result = arr1 ** arr2\n",
        "# The element-wise exponentiation will calculate:\n",
        "#  1^5, 2^4, 3^3, 4^2, 5^1\n",
        "\n",
        "print(result)"
      ],
      "metadata": {
        "id": "KluRyaL4E07B",
        "colab": {
          "base_uri": "https://localhost:8080/"
        },
        "outputId": "18fbce64-ceb2-46c2-c046-0e985aacb802"
      },
      "execution_count": null,
      "outputs": [
        {
          "output_type": "stream",
          "name": "stdout",
          "text": [
            "[ 1 16 27 16  5]\n"
          ]
        }
      ]
    },
    {
      "cell_type": "code",
      "source": [
        "## Q.56) Write a function that counts the occurrences of a specific substring within a NumPy array of strings.\n",
        "##        arr = np.array(['hello', 'world', 'hello', 'numpy', 'hello'])\n",
        "import numpy as np\n",
        "\n",
        "def count_substring_occurrences(arr, substring):\n",
        "    # Use vectorized string operation to count occurrences\n",
        "    count = np.char.count(arr, substring)\n",
        "    # Sum all counts to get the total occurrences in the array\n",
        "    total_count = np.sum(count)\n",
        "    return total_count\n",
        "\n",
        "arr = np.array(['hello', 'world', 'hello', 'numpy', 'hello'])\n",
        "substring = 'hello'\n",
        "\n",
        "result = count_substring_occurrences(arr, substring)\n",
        "print(result)"
      ],
      "metadata": {
        "id": "XkfMOcU-E8Bc",
        "colab": {
          "base_uri": "https://localhost:8080/"
        },
        "outputId": "9b8e7c9e-6f52-4015-a79f-cd2069605f95"
      },
      "execution_count": null,
      "outputs": [
        {
          "output_type": "stream",
          "name": "stdout",
          "text": [
            "3\n"
          ]
        }
      ]
    },
    {
      "cell_type": "code",
      "source": [
        "## Q.57) Write a function that extracts uppercase characters from a NumPy array of strings.\n",
        "##        arr = np.array(['Hello', 'World', 'OpenAI', 'GPT'])\n",
        "import numpy as np\n",
        "\n",
        "def extract_uppercase(arr):\n",
        "    # Use a vectorized function to apply a list comprehension that extracts uppercase letters\n",
        "    extract_upper = np.vectorize(lambda x: ''.join([char for char in x if char.isupper()]))\n",
        "    # Apply the function to the array\n",
        "    uppercase_arr = extract_upper(arr)\n",
        "    return uppercase_arr\n",
        "\n",
        "arr = np.array(['Hello', 'World', 'OpenAI', 'GPT'])\n",
        "\n",
        "result = extract_uppercase(arr)\n",
        "print(result)"
      ],
      "metadata": {
        "id": "-J5RgijFFFMb",
        "colab": {
          "base_uri": "https://localhost:8080/"
        },
        "outputId": "2a013da0-a7cc-41e4-9f8b-c50e4069e8b2"
      },
      "execution_count": null,
      "outputs": [
        {
          "output_type": "stream",
          "name": "stdout",
          "text": [
            "['H' 'W' 'OAI' 'GPT']\n"
          ]
        }
      ]
    },
    {
      "cell_type": "code",
      "source": [
        "## Q.58) Write a function that replaces occurrences of a substring in a NumPy array of strings with a new string.\n",
        "##        arr = np.array(['apple', 'banana', 'grape', 'pineapple'])\n",
        "import numpy as np\n",
        "\n",
        "def replace_substring(arr, old_substring, new_substring):\n",
        "    # Use np.char.replace to replace occurrences of old_substring with new_substring\n",
        "    replaced_arr = np.char.replace(arr, old_substring, new_substring)\n",
        "    return replaced_arr\n",
        "\n",
        "# Example;\n",
        "arr = np.array(['apple', 'banana', 'grape', 'pineapple'])\n",
        "old_substring = 'pineapple'\n",
        "new_substring = 'mango'\n",
        "\n",
        "result = replace_substring(arr, old_substring, new_substring)\n",
        "print(result)"
      ],
      "metadata": {
        "id": "fAxVXpwiFiaQ",
        "colab": {
          "base_uri": "https://localhost:8080/"
        },
        "outputId": "683df801-13fe-40da-fe27-20daca0f0bf8"
      },
      "execution_count": null,
      "outputs": [
        {
          "output_type": "stream",
          "name": "stdout",
          "text": [
            "['apple' 'banana' 'grape' 'mango']\n"
          ]
        }
      ]
    },
    {
      "cell_type": "code",
      "source": [
        "## Q.59) Write a function that concatenates strings in a NumPy array element-wise.\n",
        "##       arr1 = np.array(['Hello', 'World']) and arr2 = np.array(['Open', 'AI'])\n",
        "import numpy as np\n",
        "\n",
        "def concatenate_arrays(arr1, arr2):\n",
        "    # Use np.char.add to concatenate the arrays element-wise\n",
        "    concatenated_arr = np.char.add(arr1, arr2)\n",
        "    return concatenated_arr\n",
        "\n",
        "arr1 = np.array(['Hello', 'World'])\n",
        "arr2 = np.array(['Open', 'AI'])\n",
        "\n",
        "result = concatenate_arrays(arr1, arr2)\n",
        "print(result)"
      ],
      "metadata": {
        "id": "Y2OaeE7fFsdd",
        "colab": {
          "base_uri": "https://localhost:8080/"
        },
        "outputId": "c082db40-fd26-448e-fdb8-b31605745e8b"
      },
      "execution_count": null,
      "outputs": [
        {
          "output_type": "stream",
          "name": "stdout",
          "text": [
            "['HelloOpen' 'WorldAI']\n"
          ]
        }
      ]
    },
    {
      "cell_type": "code",
      "source": [
        "## Q. 60) Write a function that finds the length of the longest string in a NumPy array.\n",
        "##         arr = np.array(['apple', 'banana', 'grape', 'pineapple'])\n",
        "import numpy as np\n",
        "def longest_string_length(array):\n",
        "\n",
        "  return max(len(string) for string in array)\n",
        "\n",
        "arr = np.array(['apple', 'banana', 'grape', 'pineapple'])\n",
        "\n",
        "longest_length = longest_string_length(arr)\n",
        "\n",
        "print(longest_length)"
      ],
      "metadata": {
        "id": "MKSFJwHxF6Jj",
        "colab": {
          "base_uri": "https://localhost:8080/"
        },
        "outputId": "12d9830e-f40d-4773-c6bd-7fbc82f8a247"
      },
      "execution_count": null,
      "outputs": [
        {
          "output_type": "stream",
          "name": "stdout",
          "text": [
            "9\n"
          ]
        }
      ]
    },
    {
      "cell_type": "code",
      "source": [
        "## Q.61) Create a dataset of 100 random integers between 1 and 1000. Compute the mean, median, variance, and\n",
        "##        standard deviation of the dataset using NumPy's functions.\n",
        "import numpy as np\n",
        "\n",
        "# Create a dataset of 100 random integers between 1 and 1000\n",
        "dataset = np.random.randint(1, 1001, size=100)\n",
        "\n",
        "# Compute the mean, median, variance, and standard deviation\n",
        "mean = np.mean(dataset)\n",
        "median = np.median(dataset)\n",
        "variance = np.var(dataset)\n",
        "std_dev = np.std(dataset)\n",
        "\n",
        "print(\"Mean:\", mean)\n",
        "print(\"Median:\", median)\n",
        "print(\"Variance:\", variance)\n",
        "print(\"Standard Deviation:\", std_dev)"
      ],
      "metadata": {
        "id": "ZW6jbVEfGGvf",
        "colab": {
          "base_uri": "https://localhost:8080/"
        },
        "outputId": "449b5701-16a3-4e97-a747-76daa9ab38f7"
      },
      "execution_count": null,
      "outputs": [
        {
          "output_type": "stream",
          "name": "stdout",
          "text": [
            "Mean: 489.68\n",
            "Median: 470.0\n",
            "Variance: 81604.61759999998\n",
            "Standard Deviation: 285.6652194440198\n"
          ]
        }
      ]
    },
    {
      "cell_type": "code",
      "source": [
        "## Q.62. Generate an array of 50 random numbers between 1 and 100. Find the 25th and 75th percentiles of the dataset.\n",
        "import numpy as np\n",
        "\n",
        "# Generate an array of 50 random numbers between 1 and 100\n",
        "data = np.random.randint(1, 101, size=50)\n",
        "\n",
        "# Find the 25th and 75th percentiles\n",
        "percentile_25 = np.percentile(data, 25)\n",
        "percentile_75 = np.percentile(data, 75)\n",
        "\n",
        "print(f\"25th Percentile: {percentile_25}\")\n",
        "print(f\"75th Percentile: {percentile_75}\")"
      ],
      "metadata": {
        "id": "oNaKq6SZGQVs",
        "colab": {
          "base_uri": "https://localhost:8080/"
        },
        "outputId": "1e806cde-6516-46e1-e3d0-d5b0dd963fb7"
      },
      "execution_count": null,
      "outputs": [
        {
          "output_type": "stream",
          "name": "stdout",
          "text": [
            "25th Percentile: 35.5\n",
            "75th Percentile: 73.5\n"
          ]
        }
      ]
    },
    {
      "cell_type": "code",
      "source": [
        "##Q.63)Create two arrays representing two sets of variables. Compute the correlation coefficient between these arrays using NumPy's `corrcoef` function.\n",
        "import numpy as np\n",
        "\n",
        "# Create two arrays representing two sets of variables\n",
        "array1 = np.array([1, 2, 3, 4, 5])\n",
        "array2 = np.array([2, 4, 6, 8, 10])\n",
        "\n",
        "# Compute the correlation coefficient\n",
        "correlation_coefficient = np.corrcoef(array1, array2)[0, 1]\n",
        "\n",
        "print(\"Correlation coefficient:\", correlation_coefficient)"
      ],
      "metadata": {
        "id": "fJT9ZnKBGXb_",
        "colab": {
          "base_uri": "https://localhost:8080/"
        },
        "outputId": "d24d8a0d-da0d-4ac8-b413-8fa414478a18"
      },
      "execution_count": null,
      "outputs": [
        {
          "output_type": "stream",
          "name": "stdout",
          "text": [
            "Correlation coefficient: 0.9999999999999999\n"
          ]
        }
      ]
    },
    {
      "cell_type": "code",
      "source": [
        "## Q.64) Create two matrices and perform matrix multiplication using NumPy's `dot` function.\n",
        "import numpy as np\n",
        "\n",
        "# Create two matrices\n",
        "matrix1 = np.array([[2, 3, 4],\n",
        "                    [7, 8, 9]])\n",
        "\n",
        "matrix2 = np.array([[10, 11],\n",
        "                    [6, 1],\n",
        "                    [12, 5]])\n",
        "\n",
        "# Perform matrix multiplication using np.dot\n",
        "result = np.dot(matrix1, matrix2)\n",
        "\n",
        "print(\"Matrix 1:\")\n",
        "print(matrix1)\n",
        "print(\"\\nMatrix 2:\")\n",
        "print(matrix2)\n",
        "print(\"\\nResult of Matrix Multiplication:\")\n",
        "print(result)"
      ],
      "metadata": {
        "id": "T7XPEzOtGnUN",
        "colab": {
          "base_uri": "https://localhost:8080/"
        },
        "outputId": "ebff86a2-83b6-4162-9077-d6529de0fecb"
      },
      "execution_count": null,
      "outputs": [
        {
          "output_type": "stream",
          "name": "stdout",
          "text": [
            "Matrix 1:\n",
            "[[2 3 4]\n",
            " [7 8 9]]\n",
            "\n",
            "Matrix 2:\n",
            "[[10 11]\n",
            " [ 6  1]\n",
            " [12  5]]\n",
            "\n",
            "Result of Matrix Multiplication:\n",
            "[[ 86  45]\n",
            " [226 130]]\n"
          ]
        }
      ]
    },
    {
      "cell_type": "code",
      "source": [
        "##Q.65)Create an array of 50 integers between 10 and 1000. Calculate the 10th, 50th (median), and 90th percentiles along with the first and third quartiles.\n",
        "import numpy as np\n",
        "\n",
        "# Generate an array of 50 random integers between 10 and 1000\n",
        "data = np.random.randint(10, 1001, size=50)\n",
        "\n",
        "# Calculate the 10th, 50th (median), and 90th percentiles\n",
        "percentile_10 = np.percentile(data, 10)\n",
        "percentile_50 = np.percentile(data, 50)  # This is the median\n",
        "percentile_90 = np.percentile(data, 90)\n",
        "\n",
        "# Calculate the first (25th percentile) and third (75th percentile) quartiles\n",
        "first_quartile = np.percentile(data, 25)\n",
        "third_quartile = np.percentile(data, 75)\n",
        "\n",
        "print(\"Data:\", data)\n",
        "print(f\"10th Percentile: {percentile_10}\")\n",
        "print(f\"50th Percentile (Median): {percentile_50}\")\n",
        "print(f\"90th Percentile: {percentile_90}\")\n",
        "print(f\"First Quartile (25th Percentile): {first_quartile}\")\n",
        "print(f\"Third Quartile (75th Percentile): {third_quartile}\")"
      ],
      "metadata": {
        "id": "pc-M_OViGuow",
        "colab": {
          "base_uri": "https://localhost:8080/"
        },
        "outputId": "ede2b4ef-3164-4a29-e6ea-a9dd7489e542"
      },
      "execution_count": null,
      "outputs": [
        {
          "output_type": "stream",
          "name": "stdout",
          "text": [
            "Data: [933 292 244 813 137 694 908 191 263 993 228 502 778 321 781 875 855 613\n",
            " 461 135 401 909 261 363 284 373 662 364 781 204 838 284 108 879 750 986\n",
            " 778 142 876 444 660 678 851 623 998 945 837 432 541 950]\n",
            "10th Percentile: 202.70000000000002\n",
            "50th Percentile (Median): 641.5\n",
            "90th Percentile: 934.2\n",
            "First Quartile (25th Percentile): 299.25\n",
            "Third Quartile (75th Percentile): 847.75\n"
          ]
        }
      ]
    },
    {
      "cell_type": "code",
      "source": [
        "## Q. 66) Create a NumPy array of integers and find the index of a specific element.\n",
        "import numpy as np\n",
        "\n",
        "# Create a NumPy array of integers\n",
        "arr = np.array([11, 12, 13, 14, 15, 16])\n",
        "\n",
        "# Specify the element you want to find the index of\n",
        "element_to_find = 15\n",
        "\n",
        "# Find the index of the specific element\n",
        "index = np.where(arr == element_to_find)[0]\n",
        "\n",
        "print(f\"Array: {arr}\")\n",
        "print(f\"Index of element {element_to_find}: {index}\")"
      ],
      "metadata": {
        "id": "fMLjblL1G_Sf",
        "colab": {
          "base_uri": "https://localhost:8080/"
        },
        "outputId": "2b0eaac9-0ff6-45ba-c4e9-63211aa832ec"
      },
      "execution_count": null,
      "outputs": [
        {
          "output_type": "stream",
          "name": "stdout",
          "text": [
            "Array: [11 12 13 14 15 16]\n",
            "Index of element 15: [4]\n"
          ]
        }
      ]
    },
    {
      "cell_type": "code",
      "source": [
        "## Q. 67) Generate a random NumPy array and sort it in ascending order.\n",
        "import numpy as np\n",
        "\n",
        "# Generate a random NumPy array with 10 integers between 1 and 100\n",
        "random_array = np.random.randint(1, 51, size=20)\n",
        "\n",
        "# Sort the array in ascending order\n",
        "sorted_array = np.sort(random_array)\n",
        "\n",
        "print(\"Original Array:\", random_array)\n",
        "print(\"Sorted Array:\", sorted_array)"
      ],
      "metadata": {
        "id": "B-QQZifRHFCy",
        "colab": {
          "base_uri": "https://localhost:8080/"
        },
        "outputId": "fa9e80e6-cc0e-4284-a917-a687af705a2b"
      },
      "execution_count": null,
      "outputs": [
        {
          "output_type": "stream",
          "name": "stdout",
          "text": [
            "Original Array: [39 19 23 42 31 46 42 26 24 50 50 43 28 35 16 17  2 19  5  8]\n",
            "Sorted Array: [ 2  5  8 16 17 19 19 23 24 26 28 31 35 39 42 42 43 46 50 50]\n"
          ]
        }
      ]
    },
    {
      "cell_type": "code",
      "source": [
        "## Q. 68) Filter elements >20  in the given NumPy array:-  arr = np.array([12, 25, 6, 42, 8, 30])\n",
        "import numpy as np\n",
        "arr = np.array([12, 25, 6, 42, 8, 30])\n",
        "\n",
        "# Filter elements greater than 20\n",
        "filtered_arr = arr[arr > 20]\n",
        "\n",
        "print(\"Filtered Array:\", filtered_arr)"
      ],
      "metadata": {
        "id": "sBYDt4ruHHkb",
        "colab": {
          "base_uri": "https://localhost:8080/"
        },
        "outputId": "2f7d11bc-a033-4b40-bc7c-78fcc2467001"
      },
      "execution_count": null,
      "outputs": [
        {
          "output_type": "stream",
          "name": "stdout",
          "text": [
            "Filtered Array: [25 42 30]\n"
          ]
        }
      ]
    },
    {
      "cell_type": "code",
      "source": [
        "##Q.69) Filter elements which are divisible by 3 from a given NumPy array:-  arr = np.array([1, 5, 8, 12, 15])\n",
        "import numpy as np\n",
        "arr = np.array([1, 5, 8, 12, 15])\n",
        "\n",
        "# Filter elements divisible by 3\n",
        "filtered_arr = arr[arr % 3 == 0]\n",
        "\n",
        "print(\"Filtered Array:\", filtered_arr)"
      ],
      "metadata": {
        "id": "7m6-X4wlHRwC",
        "colab": {
          "base_uri": "https://localhost:8080/"
        },
        "outputId": "415b51da-3b35-471c-a71b-0c1afd44ba83"
      },
      "execution_count": null,
      "outputs": [
        {
          "output_type": "stream",
          "name": "stdout",
          "text": [
            "Filtered Array: [12 15]\n"
          ]
        }
      ]
    },
    {
      "cell_type": "code",
      "source": [
        "## Q.70) Filter elements which are ≥ 20 and ≤ 40 from a given NumPy array:-  arr = np.array([10, 20, 30, 40, 50])\n",
        "import numpy as np\n",
        "arr = np.array([10, 20, 30, 40, 50])\n",
        "\n",
        "# Filter elements that are ≥ 20 and ≤ 40\n",
        "filtered_arr = arr[(arr >= 20) & (arr <= 40)]\n",
        "\n",
        "print(\"Filtered Array:\", filtered_arr)"
      ],
      "metadata": {
        "id": "R8rrkdoCHmve",
        "colab": {
          "base_uri": "https://localhost:8080/"
        },
        "outputId": "0f68896f-0af3-4dd2-d677-5cfa41edd5b5"
      },
      "execution_count": null,
      "outputs": [
        {
          "output_type": "stream",
          "name": "stdout",
          "text": [
            "Filtered Array: [20 30 40]\n"
          ]
        }
      ]
    },
    {
      "cell_type": "code",
      "source": [
        "##Q.71) For the given NumPy array, check its byte order using the `dtype` attribute byte order:- arr = np.array([1, 2, 3])\n",
        "import numpy as np\n",
        "arr = np.array([1, 2, 3])\n",
        "\n",
        "# Check the byte order using the dtype attribute\n",
        "byte_order = arr.dtype.byteorder\n",
        "\n",
        "print(\"Byte Order:\", byte_order)"
      ],
      "metadata": {
        "id": "Com9aEEcHtEE",
        "colab": {
          "base_uri": "https://localhost:8080/"
        },
        "outputId": "bfcf356e-7ca0-47ad-f5a9-aba726489220"
      },
      "execution_count": null,
      "outputs": [
        {
          "output_type": "stream",
          "name": "stdout",
          "text": [
            "Byte Order: =\n"
          ]
        }
      ]
    },
    {
      "cell_type": "code",
      "source": [
        "##Q.72) For the given NumPy array, perform byte swapping in place using `byteswap()`:- arr = np.array([1, 2, 3], dtype=np.int32)\n",
        "import numpy as np\n",
        "\n",
        "# Given NumPy array with specified dtype\n",
        "arr = np.array([1, 2, 3], dtype=np.int32)\n",
        "\n",
        "# Perform byte swapping in place\n",
        "arr.byteswap(inplace=True)\n",
        "\n",
        "print(\"Byte-swapped Array:\", arr)"
      ],
      "metadata": {
        "id": "pI8EMGFlH0st",
        "colab": {
          "base_uri": "https://localhost:8080/"
        },
        "outputId": "f7c17fee-f69e-4a9c-9e73-4db1961a53f9"
      },
      "execution_count": null,
      "outputs": [
        {
          "output_type": "stream",
          "name": "stdout",
          "text": [
            "Byte-swapped Array: [16777216 33554432 50331648]\n"
          ]
        }
      ]
    },
    {
      "cell_type": "code",
      "source": [
        "## Q.73) For the given NumPy array, swap its byte order without modifying the original array using `newbyteorder()`.\n",
        "##        arr = np.array([1, 2, 3], dtype=np.int32)\n",
        "import numpy as np\n",
        "arr = np.array([1, 2, 3], dtype=np.int32)\n",
        "\n",
        "# Swap the byte order without modifying the original array\n",
        "swapped_arr = arr.newbyteorder()\n",
        "\n",
        "print(\"Original Array:\", arr)\n",
        "print(\"Byte-swapped Array:\", swapped_arr)"
      ],
      "metadata": {
        "id": "ObCjqMdnIEwi",
        "colab": {
          "base_uri": "https://localhost:8080/"
        },
        "outputId": "a4af6919-da58-4136-a2b5-19b0c8d0f023"
      },
      "execution_count": null,
      "outputs": [
        {
          "output_type": "stream",
          "name": "stdout",
          "text": [
            "Original Array: [1 2 3]\n",
            "Byte-swapped Array: [16777216 33554432 50331648]\n"
          ]
        }
      ]
    },
    {
      "cell_type": "code",
      "source": [
        "## Q.74) For the given NumPy array and swap its byte order conditionally based on system endianness using `newbyteorder()`.\n",
        "##         arr = np.array([1, 2, 3], dtype=np.int32)\n",
        "import numpy as np\n",
        "arr = np.array([1, 2, 3], dtype=np.int32)\n",
        "\n",
        "# Check the system's endianness\n",
        "system_endianness = np.dtype(np.int32).byteorder\n",
        "\n",
        "# Conditionally swap the byte order based on system endianness\n",
        "if system_endianness == '=':  # Native endianness\n",
        "    swapped_arr = arr.newbyteorder('>')\n",
        "else:\n",
        "    swapped_arr = arr\n",
        "\n",
        "print(\"Original Array:\", arr)\n",
        "print(\"Swapped Array:\", swapped_arr)"
      ],
      "metadata": {
        "colab": {
          "base_uri": "https://localhost:8080/"
        },
        "id": "Eg5O2oMYIMnS",
        "outputId": "9b655d4d-af56-435d-c672-473c345410fd"
      },
      "execution_count": null,
      "outputs": [
        {
          "output_type": "stream",
          "name": "stdout",
          "text": [
            "Original Array: [1 2 3]\n",
            "Swapped Array: [16777216 33554432 50331648]\n"
          ]
        }
      ]
    },
    {
      "cell_type": "code",
      "source": [
        "##Q.75) For the given NumPy array, check if byte swapping is necessary for the current system using `dtype` attribute `byteorder`.\n",
        "##         arr = np.array([1, 2, 3], dtype=np.int32)\n",
        "import numpy as np\n",
        "arr = np.array([1, 2, 3], dtype=np.int32)\n",
        "\n",
        "# Check the system's native byte order\n",
        "system_byteorder = np.dtype(np.int32).byteorder\n",
        "\n",
        "# Check the array's byte order\n",
        "array_byteorder = arr.dtype.byteorder\n",
        "\n",
        "# Determine if byte swapping is necessary\n",
        "if array_byteorder == system_byteorder:\n",
        "    print(\"Byte swapping is not necessary.\")\n",
        "else:\n",
        "    print(\"Byte swapping is necessary.\")\n",
        "\n",
        "print(f\"System Byte Order: {system_byteorder}\")\n",
        "print(f\"Array Byte Order: {array_byteorder}\")"
      ],
      "metadata": {
        "id": "QRPY1gQcIWqc",
        "colab": {
          "base_uri": "https://localhost:8080/"
        },
        "outputId": "691c7270-6658-4f0d-e182-35f9a5ecfb04"
      },
      "execution_count": null,
      "outputs": [
        {
          "output_type": "stream",
          "name": "stdout",
          "text": [
            "Byte swapping is not necessary.\n",
            "System Byte Order: =\n",
            "Array Byte Order: =\n"
          ]
        }
      ]
    },
    {
      "cell_type": "code",
      "source": [
        "## Q.76) Create a NumPy array `arr1` with values from 1 to 10. Create a copy of `arr1` named `copy_arr` and modify\n",
        "##        an element in `copy_arr`. Check if modifying `copy_arr` affects `arr1`.\n",
        "import numpy as np\n",
        "\n",
        "# Create a NumPy array with values from 1 to 10\n",
        "arr1 = np.arange(1, 11)\n",
        "\n",
        "# Create a copy of arr1 named copy_arr\n",
        "copy_arr = arr1.copy()\n",
        "\n",
        "# Modify an element in copy_arr\n",
        "copy_arr[2] = 25\n",
        "\n",
        "# Check if modifying copy_arr affects arr1\n",
        "print(\"Original Array (arr1):\", arr1)\n",
        "print(\"Modified Copy (copy_arr):\", copy_arr)"
      ],
      "metadata": {
        "id": "CRCljKD6Iw8Q",
        "colab": {
          "base_uri": "https://localhost:8080/"
        },
        "outputId": "ec62b1b6-0425-4b7a-b7b1-f3503fa78f7f"
      },
      "execution_count": null,
      "outputs": [
        {
          "output_type": "stream",
          "name": "stdout",
          "text": [
            "Original Array (arr1): [ 1  2  3  4  5  6  7  8  9 10]\n",
            "Modified Copy (copy_arr): [ 1  2 25  4  5  6  7  8  9 10]\n"
          ]
        }
      ]
    },
    {
      "cell_type": "code",
      "source": [
        "## Q. 77)Create a 2D NumPy array `matrix` of shape (3, 3) with random integers. Extract a slice `view_slice` from\n",
        "##        the matrix. Modify an element in `view_slice` and observe if it changes the original `matrix`.\n",
        "import numpy as np\n",
        "\n",
        "# Create a 2D NumPy array of shape (3, 3) with random integers\n",
        "matrix = np.random.randint(1, 10, size=(3, 3))\n",
        "\n",
        "# Extract a slice from the matrix (for example, the first two rows and columns)\n",
        "view_slice = matrix[:2, :2]\n",
        "\n",
        "# Print the original matrix and the slice before modification\n",
        "print(\"Original Matrix:\")\n",
        "print(matrix)\n",
        "print(\"\\nView Slice Before Modification:\")\n",
        "print(view_slice)\n",
        "\n",
        "# Modify an element in the view_slice\n",
        "view_slice[0, 0] = 50\n",
        "\n",
        "# Print the original matrix and the slice after modification\n",
        "print(\"\\nOriginal Matrix After Modification:\")\n",
        "print(matrix)\n",
        "print(\"\\nView Slice After Modification:\")\n",
        "print(view_slice)"
      ],
      "metadata": {
        "id": "a0zfCootI7Or",
        "colab": {
          "base_uri": "https://localhost:8080/"
        },
        "outputId": "92c58dc0-b121-4373-a7ac-4d4e939f51c3"
      },
      "execution_count": null,
      "outputs": [
        {
          "output_type": "stream",
          "name": "stdout",
          "text": [
            "Original Matrix:\n",
            "[[3 1 7]\n",
            " [7 9 6]\n",
            " [6 7 9]]\n",
            "\n",
            "View Slice Before Modification:\n",
            "[[3 1]\n",
            " [7 9]]\n",
            "\n",
            "Original Matrix After Modification:\n",
            "[[50  1  7]\n",
            " [ 7  9  6]\n",
            " [ 6  7  9]]\n",
            "\n",
            "View Slice After Modification:\n",
            "[[50  1]\n",
            " [ 7  9]]\n"
          ]
        }
      ]
    },
    {
      "cell_type": "code",
      "source": [
        "## Q. 78) Create a NumPy array `array_a` of shape (4, 3) with sequential integers from 1 to 12. Extract a slice\n",
        "##         `view_b` from `array_a` and broadcast the addition of 5 to view_b. Check if it alters the original `array_a`.\n",
        "import numpy as np\n",
        "\n",
        "# Create a NumPy array of shape (4, 3) with sequential integers from 1 to 12\n",
        "array_a = np.arange(1, 13).reshape(4, 3)\n",
        "\n",
        "# Extract a slice from array_a (for example, the first two rows and columns)\n",
        "view_b = array_a[:2, :2]\n",
        "\n",
        "# Print the original array and the slice before modification\n",
        "print(\"Original Array (array_a):\")\n",
        "print(array_a)\n",
        "print(\"\\nView Slice Before Broadcasting:\")\n",
        "print(view_b)\n",
        "\n",
        "# Broadcast the addition of 5 to view_b\n",
        "view_b += 5\n",
        "\n",
        "# Print the original array and the slice after broadcasting\n",
        "print(\"\\nOriginal Array (array_a) After Broadcasting:\")\n",
        "print(array_a)\n",
        "print(\"\\nView Slice (view_b) After Broadcasting:\")\n",
        "print(view_b)"
      ],
      "metadata": {
        "id": "tC1jXGuSJEUl",
        "colab": {
          "base_uri": "https://localhost:8080/"
        },
        "outputId": "ed696d42-1c84-45a2-83e2-46e2f0f2c7d6"
      },
      "execution_count": null,
      "outputs": [
        {
          "output_type": "stream",
          "name": "stdout",
          "text": [
            "Original Array (array_a):\n",
            "[[ 1  2  3]\n",
            " [ 4  5  6]\n",
            " [ 7  8  9]\n",
            " [10 11 12]]\n",
            "\n",
            "View Slice Before Broadcasting:\n",
            "[[1 2]\n",
            " [4 5]]\n",
            "\n",
            "Original Array (array_a) After Broadcasting:\n",
            "[[ 6  7  3]\n",
            " [ 9 10  6]\n",
            " [ 7  8  9]\n",
            " [10 11 12]]\n",
            "\n",
            "View Slice (view_b) After Broadcasting:\n",
            "[[ 6  7]\n",
            " [ 9 10]]\n"
          ]
        }
      ]
    },
    {
      "cell_type": "code",
      "source": [
        "##Q.79) Create a NumPy array `orig_array` of shape (2, 4) with values from 1 to 8. Create a reshaped view `reshaped_view` of shape (4, 2)\n",
        "##        from orig_array. Modify an element in `reshaped_view` and check if it reflects changes in the original `orig_array`.\n",
        "import numpy as np\n",
        "\n",
        "# Create a NumPy array of shape (2, 4) with values from 1 to 8\n",
        "orig_array = np.arange(1, 9).reshape(2, 4)\n",
        "\n",
        "# Create a reshaped view of shape (4, 2) from orig_array\n",
        "reshaped_view = orig_array.reshape(4, 2)\n",
        "\n",
        "# Print the original array and the reshaped view before modification\n",
        "print(\"Original Array (orig_array):\")\n",
        "print(orig_array)\n",
        "print(\"\\nReshaped View Before Modification (reshaped_view):\")\n",
        "print(reshaped_view)\n",
        "\n",
        "# Modify an element in reshaped_view\n",
        "reshaped_view[0, 0] = 100\n",
        "\n",
        "# Print the original array and the reshaped view after modification\n",
        "print(\"\\nOriginal Array (orig_array) After Modification:\")\n",
        "print(orig_array)\n",
        "print(\"\\nReshaped View After Modification (reshaped_view):\")\n",
        "print(reshaped_view)"
      ],
      "metadata": {
        "id": "NlTFDvuYJM-R",
        "colab": {
          "base_uri": "https://localhost:8080/"
        },
        "outputId": "24bfe4ba-99c4-4961-e943-b6c34ba05bc6"
      },
      "execution_count": null,
      "outputs": [
        {
          "output_type": "stream",
          "name": "stdout",
          "text": [
            "Original Array (orig_array):\n",
            "[[1 2 3 4]\n",
            " [5 6 7 8]]\n",
            "\n",
            "Reshaped View Before Modification (reshaped_view):\n",
            "[[1 2]\n",
            " [3 4]\n",
            " [5 6]\n",
            " [7 8]]\n",
            "\n",
            "Original Array (orig_array) After Modification:\n",
            "[[100   2   3   4]\n",
            " [  5   6   7   8]]\n",
            "\n",
            "Reshaped View After Modification (reshaped_view):\n",
            "[[100   2]\n",
            " [  3   4]\n",
            " [  5   6]\n",
            " [  7   8]]\n"
          ]
        }
      ]
    },
    {
      "cell_type": "code",
      "source": [
        "## Q. 80) Create a NumPy array `data` of shape (3, 4) with random integers. Extract a copy `data_copy` of\n",
        "##         elements greater than 5. Modify an element in `data_copy` and verify if it affects the original `data`.\n",
        "import numpy as np\n",
        "\n",
        "# Create a NumPy array of shape (3, 4) with random integers between 1 and 10\n",
        "data = np.random.randint(1, 11, size=(3, 4))\n",
        "\n",
        "# Extract a copy of elements greater than 5\n",
        "data_copy = data[data > 5].copy()\n",
        "\n",
        "# Print the original array and the copy before modification\n",
        "print(\"Original Array (data):\")\n",
        "print(data)\n",
        "print(\"\\nCopy of Elements Greater Than 5 (data_copy) Before Modification:\")\n",
        "print(data_copy)\n",
        "\n",
        "# Modify an element in data_copy\n",
        "data_copy[0] = 100\n",
        "\n",
        "# Print the original array and the copy after modification\n",
        "print(\"\\nOriginal Array (data) After Modification:\")\n",
        "print(data)\n",
        "print(\"\\nCopy of Elements Greater Than 5 (data_copy) After Modification:\")\n",
        "print(data_copy)"
      ],
      "metadata": {
        "id": "POvlkSJoJZ5N",
        "colab": {
          "base_uri": "https://localhost:8080/"
        },
        "outputId": "0644093d-464f-4858-adf7-40b29173adc4"
      },
      "execution_count": null,
      "outputs": [
        {
          "output_type": "stream",
          "name": "stdout",
          "text": [
            "Original Array (data):\n",
            "[[8 6 9 5]\n",
            " [6 9 5 3]\n",
            " [2 4 3 9]]\n",
            "\n",
            "Copy of Elements Greater Than 5 (data_copy) Before Modification:\n",
            "[8 6 9 6 9 9]\n",
            "\n",
            "Original Array (data) After Modification:\n",
            "[[8 6 9 5]\n",
            " [6 9 5 3]\n",
            " [2 4 3 9]]\n",
            "\n",
            "Copy of Elements Greater Than 5 (data_copy) After Modification:\n",
            "[100   6   9   6   9   9]\n"
          ]
        }
      ]
    },
    {
      "cell_type": "code",
      "source": [
        "##Q.81) Create two matrices A and B of identical shape containing integers and perform addition and subtraction operations between them.\n",
        "import numpy as np\n",
        "\n",
        "# Create two matrices A and B of identical shape with integers\n",
        "A = np.array([[1, 2, 3], [4, 5, 6]])\n",
        "B = np.array([[7, 8, 9], [10, 11, 12]])\n",
        "\n",
        "# Perform element-wise addition\n",
        "addition_result = A + B\n",
        "\n",
        "# Perform element-wise subtraction\n",
        "subtraction_result = A - B\n",
        "\n",
        "# Print the original matrices and the results\n",
        "print(\"Matrix A:\")\n",
        "print(A)\n",
        "print(\"\\nMatrix B:\")\n",
        "print(B)\n",
        "print(\"\\nAddition Result (A + B):\")\n",
        "print(addition_result)\n",
        "print(\"\\nSubtraction Result (A - B):\")\n",
        "print(subtraction_result)"
      ],
      "metadata": {
        "id": "VE97e6YvJiY2",
        "colab": {
          "base_uri": "https://localhost:8080/"
        },
        "outputId": "1df4a211-7281-4bf1-dfc3-ab64f0c56cf5"
      },
      "execution_count": null,
      "outputs": [
        {
          "output_type": "stream",
          "name": "stdout",
          "text": [
            "Matrix A:\n",
            "[[1 2 3]\n",
            " [4 5 6]]\n",
            "\n",
            "Matrix B:\n",
            "[[ 7  8  9]\n",
            " [10 11 12]]\n",
            "\n",
            "Addition Result (A + B):\n",
            "[[ 8 10 12]\n",
            " [14 16 18]]\n",
            "\n",
            "Subtraction Result (A - B):\n",
            "[[-6 -6 -6]\n",
            " [-6 -6 -6]]\n"
          ]
        }
      ]
    },
    {
      "cell_type": "code",
      "source": [
        "## Q. 82) Generate two matrices `C` (3x2) and `D` (2x4) and perform matrix multiplication.\n",
        "import numpy as np\n",
        "\n",
        "# Create matrix C (3x2)\n",
        "C = np.array([[1, 2],\n",
        "              [3, 4],\n",
        "              [5, 6]])\n",
        "\n",
        "# Create matrix D (2x4)\n",
        "D = np.array([[7, 8, 9, 10],\n",
        "              [11, 12, 13, 14]])\n",
        "\n",
        "# Perform matrix multiplication\n",
        "result = np.dot(C, D)\n",
        "\n",
        "print(\"Matrix C:\\n\", C)\n",
        "print(\"Matrix D:\\n\", D)\n",
        "print(\"Result of matrix multiplication:\\n\", result)"
      ],
      "metadata": {
        "id": "LhQ-2_TDJn77",
        "colab": {
          "base_uri": "https://localhost:8080/"
        },
        "outputId": "25675b09-8502-4cec-efa0-85346239202b"
      },
      "execution_count": null,
      "outputs": [
        {
          "output_type": "stream",
          "name": "stdout",
          "text": [
            "Matrix C:\n",
            " [[1 2]\n",
            " [3 4]\n",
            " [5 6]]\n",
            "Matrix D:\n",
            " [[ 7  8  9 10]\n",
            " [11 12 13 14]]\n",
            "Result of matrix multiplication:\n",
            " [[ 29  32  35  38]\n",
            " [ 65  72  79  86]\n",
            " [101 112 123 134]]\n"
          ]
        }
      ]
    },
    {
      "cell_type": "code",
      "source": [
        "## Q.83) Create a matrix `E` and find its transpose.\n",
        "import numpy as np\n",
        "\n",
        "# Create a matrix E with specific values\n",
        "E = np.array([[1, 2, 3],\n",
        "              [4, 5, 6],\n",
        "              [7, 8, 9]])\n",
        "\n",
        "# Find the transpose of matrix E\n",
        "E_transpose = E.T  # Alternatively, you can use np.transpose(E)\n",
        "\n",
        "# Print the original matrix and its transpose\n",
        "print(\"Matrix E:\")\n",
        "print(E)\n",
        "print(\"\\nTranspose of Matrix E:\")\n",
        "print(E_transpose)"
      ],
      "metadata": {
        "id": "rdGIuJKDJv4i",
        "colab": {
          "base_uri": "https://localhost:8080/"
        },
        "outputId": "e12e21b8-ab0e-4438-bca1-eb57df0512eb"
      },
      "execution_count": null,
      "outputs": [
        {
          "output_type": "stream",
          "name": "stdout",
          "text": [
            "Matrix E:\n",
            "[[1 2 3]\n",
            " [4 5 6]\n",
            " [7 8 9]]\n",
            "\n",
            "Transpose of Matrix E:\n",
            "[[1 4 7]\n",
            " [2 5 8]\n",
            " [3 6 9]]\n"
          ]
        }
      ]
    },
    {
      "cell_type": "code",
      "source": [
        "## Q.84) Generate a square matrix `F` and compute its determinant.\n",
        "import numpy as np\n",
        "\n",
        "# Generate a square matrix F (e.g., 3x3) with random integers\n",
        "F = np.random.randint(1, 10, size=(3, 3))\n",
        "\n",
        "# Compute the determinant of matrix F\n",
        "determinant_F = np.linalg.det(F)\n",
        "\n",
        "# Print the matrix and its determinant\n",
        "print(\"Matrix F:\")\n",
        "print(F)\n",
        "print(\"\\nDeterminant of Matrix F:\")\n",
        "print(determinant_F)"
      ],
      "metadata": {
        "id": "Vqhao1apJzeN",
        "colab": {
          "base_uri": "https://localhost:8080/"
        },
        "outputId": "3db88e7c-cc85-4d86-c275-4d229db6cbfd"
      },
      "execution_count": null,
      "outputs": [
        {
          "output_type": "stream",
          "name": "stdout",
          "text": [
            "Matrix F:\n",
            "[[7 5 3]\n",
            " [3 8 1]\n",
            " [1 5 7]]\n",
            "\n",
            "Determinant of Matrix F:\n",
            "277.99999999999994\n"
          ]
        }
      ]
    },
    {
      "cell_type": "code",
      "source": [
        "## Q. 85) Create a square matrix `G` and find its inverse.\n",
        "import numpy as np\n",
        "\n",
        "# Create a square matrix G (e.g., 3x3) with specific values\n",
        "G = np.array([[4, 7, 2],\n",
        "              [3, 6, 1],\n",
        "              [2, 5, 3]])\n",
        "\n",
        "# Compute the inverse of matrix G\n",
        "try:\n",
        "    G_inverse = np.linalg.inv(G)\n",
        "    print(\"Matrix G:\")\n",
        "    print(G)\n",
        "    print(\"\\nInverse of Matrix G:\")\n",
        "    print(G_inverse)\n",
        "except np.linalg.LinAlgError:\n",
        "    print(\"Matrix G is singular and cannot be inverted.\")"
      ],
      "metadata": {
        "id": "rn6vdHm4J0_C",
        "colab": {
          "base_uri": "https://localhost:8080/"
        },
        "outputId": "209fbd75-bd85-411e-85c0-cc97a9981ba8"
      },
      "execution_count": null,
      "outputs": [
        {
          "output_type": "stream",
          "name": "stdout",
          "text": [
            "Matrix G:\n",
            "[[4 7 2]\n",
            " [3 6 1]\n",
            " [2 5 3]]\n",
            "\n",
            "Inverse of Matrix G:\n",
            "[[ 1.44444444 -1.22222222 -0.55555556]\n",
            " [-0.77777778  0.88888889  0.22222222]\n",
            " [ 0.33333333 -0.66666667  0.33333333]]\n"
          ]
        }
      ]
    }
  ]
}